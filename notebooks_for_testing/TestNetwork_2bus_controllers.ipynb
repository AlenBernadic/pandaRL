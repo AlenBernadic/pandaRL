{
 "cells": [
  {
   "cell_type": "code",
   "execution_count": 1,
   "metadata": {},
   "outputs": [],
   "source": [
    "import pandapower as pp\n",
    "import pandapower.networks as nw\n",
    "import pandapower.plotting as plot\n",
    "import matplotlib.pyplot as plt\n",
    "import math\n",
    "import numpy as np\n",
    "import copy\n",
    "import pandapower.shortcircuit as sc\n",
    "import pandapower.control as ct\n",
    "import statistics as stat\n",
    "#from matplotlib.transforms import BlendedGenericTransform\n",
    "#from pandapower.plotting import simple_plot, simple_plotly, pf_res_plotly\n",
    "\n",
    "# Predefined network of IEEE 4gs bus system \n",
    "net_temp = pp.networks.case4gs()\n",
    "#plot.simple_plot(net)"
   ]
  },
  {
   "cell_type": "code",
   "execution_count": 2,
   "metadata": {},
   "outputs": [
    {
     "name": "stdout",
     "output_type": "stream",
     "text": [
      "170.0\n",
      "105.35000000000001\n"
     ]
    }
   ],
   "source": [
    "#COPY PARAMETERS FROM TEMP NETWORK TO USE IN 2 BUS RADIAL SYSTEM.\n",
    "#BUSES\n",
    "b0_in_service = net_temp.bus.in_service[0]\n",
    "b0_max_vm_pu = net_temp.bus.max_vm_pu[0]\n",
    "b0_min_vm_pu = net_temp.bus.min_vm_pu[0]\n",
    "b0_name = net_temp.bus.name[0]\n",
    "b0_type = net_temp.bus.type[0]\n",
    "b0_vn_kv = net_temp.bus.vn_kv[0]\n",
    "b0_zone = net_temp.bus.zone[0]\n",
    "b0_geodata = (3,2)\n",
    "\n",
    "b1_in_service = net_temp.bus.in_service[1]\n",
    "b1_max_vm_pu = net_temp.bus.max_vm_pu[1]\n",
    "b1_min_vm_pu = net_temp.bus.min_vm_pu[1]\n",
    "b1_name = net_temp.bus.name[1]\n",
    "b1_type = net_temp.bus.type[1]\n",
    "b1_vn_kv = net_temp.bus.vn_kv[1]\n",
    "b1_zone = net_temp.bus.zone[1]\n",
    "b1_geodata = (4,2)\n",
    "\n",
    "#BUS ELEMENTS\n",
    "load_bus = net_temp.load.bus[1]\n",
    "load_in_service = net_temp.load.in_service[1]\n",
    "load_p_mw = net_temp.load.p_mw[1]\n",
    "load_q_mvar = net_temp.load.q_mvar[1]\n",
    "load_scaling = net_temp.load.scaling[1]\n",
    "\n",
    "extGrid_bus = net_temp.ext_grid.bus[0]\n",
    "extGrid_in_service = net_temp.ext_grid.in_service[0]\n",
    "extGrid_va_degree = net_temp.ext_grid.va_degree[0]\n",
    "extGrid_vm_pu = net_temp.ext_grid.vm_pu[0]\n",
    "extGrid_max_p_mw = net_temp.ext_grid.max_p_mw[0]\n",
    "extGrid_min_p_mw = net_temp.ext_grid.min_p_mw[0]\n",
    "extGrid_max_q_mvar = net_temp.ext_grid.max_q_mvar[0]\n",
    "extGrid_min_q_mvar = net_temp.ext_grid.min_q_mvar[0]\n",
    "\n",
    "#LINES\n",
    "line0_scaling = 1\n",
    "line0_c_nf_per_km = net_temp.line.c_nf_per_km[0]\n",
    "line0_df = net_temp.line.df[0]\n",
    "line0_from_bus = net_temp.line.from_bus[0]\n",
    "line0_g_us_per_km = net_temp.line.g_us_per_km[0]\n",
    "line0_in_service = net_temp.line.in_service[0]\n",
    "line0_length_km = net_temp.line.length_km[0]\n",
    "line0_max_i_ka = net_temp.line.max_i_ka[0]\n",
    "line0_max_loading_percent = net_temp.line.max_loading_percent[0]\n",
    "line0_parallel = net_temp.line.parallel[0]\n",
    "line0_r_ohm_per_km = net_temp.line.r_ohm_per_km[0] * line0_scaling\n",
    "line0_to_bus = net_temp.line.to_bus[0]\n",
    "line0_type = net_temp.line.type[0]\n",
    "line0_x_ohm_per_km = net_temp.line.x_ohm_per_km[0] * line0_scaling\n",
    "\n",
    "\n",
    "line1_scaling = 1.2\n",
    "line1_c_nf_per_km = line0_c_nf_per_km\n",
    "line1_df = line0_df\n",
    "line1_from_bus = line0_from_bus \n",
    "line1_g_us_per_km = line0_g_us_per_km\n",
    "line1_in_service = line0_in_service\n",
    "line1_length_km = line0_length_km\n",
    "line1_max_i_ka = line0_max_i_ka\n",
    "line1_max_loading_percent = line0_max_loading_percent\n",
    "line1_parallel = line0_parallel \n",
    "line1_r_ohm_per_km = line0_r_ohm_per_km\n",
    "line1_to_bus = line0_to_bus\n",
    "line1_type = line0_type\n",
    "line1_x_ohm_per_km = line0_x_ohm_per_km * line1_scaling\n",
    "print(load_p_mw)\n",
    "print(load_q_mvar)"
   ]
  },
  {
   "cell_type": "code",
   "execution_count": 3,
   "metadata": {},
   "outputs": [],
   "source": [
    "#CREATE 2 BUS SYSTEM\n",
    "net_2b = pp.create_empty_network()\n",
    "\n",
    "#Create buses\n",
    "b0 = pp.create_bus(net_2b, in_service=b0_in_service, max_vm_pu=b0_max_vm_pu, min_vm_pu=b0_min_vm_pu, \n",
    "                   name=b0_name, type=b0_type, vn_kv=b0_vn_kv, zone= b0_zone, geodata=b0_geodata)\n",
    "\n",
    "b1 = pp.create_bus(net_2b, in_service=b1_in_service, max_vm_pu=b1_max_vm_pu, min_vm_pu=b1_min_vm_pu, \n",
    "                   name=b1_name, type=b1_type, vn_kv=b1_vn_kv, zone= b1_zone, geodata=b1_geodata)\n",
    "\n",
    "\n",
    "\n",
    "#Create bus elements\n",
    "load = pp.create_load(net_2b, bus=load_bus, in_service=load_in_service, \n",
    "                      p_mw=load_p_mw, q_mvar=load_q_mvar, scaling=load_scaling)\n",
    "\n",
    "extGrid = pp.create_ext_grid(net_2b, bus=extGrid_bus, in_service=extGrid_in_service, va_degree=extGrid_va_degree,\n",
    "                             vm_pu=extGrid_vm_pu, max_p_mw=extGrid_max_p_mw, min_p_mw=extGrid_min_p_mw,\n",
    "                             max_q_mvar=extGrid_max_q_mvar, min_q_mvar=extGrid_min_q_mvar)\n",
    "\n",
    "# Create lines\n",
    "l0 = pp.create_line_from_parameters(net_2b, c_nf_per_km=line0_c_nf_per_km, df=line0_df, from_bus=line0_from_bus,\n",
    "                   g_us_per_km=line0_g_us_per_km, in_service=line0_in_service, length_km=line0_length_km,\n",
    "                   max_i_ka=line0_max_i_ka, max_loading_percent=line0_max_loading_percent,\n",
    "                   parallel=line0_parallel, r_ohm_per_km=line0_r_ohm_per_km, to_bus=line0_to_bus, \n",
    "                   type=line0_type, x_ohm_per_km=line0_x_ohm_per_km)\n",
    "\n",
    "l1 = pp.create_line_from_parameters(net_2b, c_nf_per_km=line1_c_nf_per_km, df=line1_df, from_bus=line1_from_bus,\n",
    "                   g_us_per_km=line1_g_us_per_km, in_service=line1_in_service, length_km=line1_length_km,\n",
    "                   max_i_ka=line1_max_i_ka, max_loading_percent=line1_max_loading_percent,\n",
    "                   parallel=line1_parallel, r_ohm_per_km=line1_r_ohm_per_km, to_bus=line1_to_bus, \n",
    "                   type=line1_type, x_ohm_per_km=line1_x_ohm_per_km)"
   ]
  },
  {
   "cell_type": "code",
   "execution_count": 4,
   "metadata": {},
   "outputs": [],
   "source": [
    "####Shunt FACTS device (bus 1)\n",
    "#MV bus\n",
    "bus_SVC = pp.create_bus(net_2b, name='MV SVCtrafo bus', vn_kv=69, type='n', geodata=(4.04,1.98), zone=2, max_vm_pu=1.1,\n",
    "                        min_vm_pu=0.9)\n",
    "#Trafo\n",
    "trafoSVC = pp.create_transformer_from_parameters(net_2b, hv_bus=1, lv_bus=2, in_service=True, \n",
    "                                                name='trafoSVC', sn_mva=110, vn_hv_kv=230 , vn_lv_kv=69, \n",
    "                                                vk_percent=12, vkr_percent=0.26, pfe_kw=55, i0_percent=0.06,\n",
    "                                                shift_degree=0, tap_side='hv', tap_neutral=0, tap_min=-9, tap_max=9,\n",
    "                                                tap_step_percent=1.5, tap_step_degree=0, tap_phase_shifter=False) \n",
    "#Breaker between grid HV bus and trafo HV bus to connect buses\n",
    "sw_SVC = pp.create_switch(net_2b, bus=1, element=0, et='t', type='CB', closed=False)\n",
    "#Shunt devices connected with MV bus\n",
    "shuntDev = pp.create_shunt(net_2b, bus_SVC, 2, in_service=True, name='Shunt Device', step = 1)\n",
    "#trafo_control = ct.DiscreteTapControl(net=net_2b, tid=0,vm_lower_pu=0.98, vm_upper_pu=1.02)"
   ]
  },
  {
   "cell_type": "code",
   "execution_count": 5,
   "metadata": {},
   "outputs": [
    {
     "data": {
      "image/png": "[encoded data removed]",
      "text/plain": [
       "<Figure size 720x576 with 1 Axes>"
      ]
     },
     "metadata": {},
     "output_type": "display_data"
    },
    {
     "data": {
      "text/plain": [
       "<matplotlib.axes._subplots.AxesSubplot at 0x27cbacc8a48>"
      ]
     },
     "execution_count": 5,
     "metadata": {},
     "output_type": "execute_result"
    }
   ],
   "source": [
    "####Series device (at line 1, in middle between bus 0 and 1)\n",
    "#Add intermediate buses for bypass and series compensation impedance\n",
    "bus_SC1 = pp.create_bus(net_2b, name='SC bus 1', vn_kv=230, type='n', geodata=(3.48,2.05), \n",
    "                        zone=2, max_vm_pu=1.1, min_vm_pu=0.9)\n",
    "bus_SC2 = pp.create_bus(net_2b, name='SC bus 2', vn_kv=230, type='n', geodata=(3.52,2.05), \n",
    "                        zone=2, max_vm_pu=1.1, min_vm_pu=0.9)\n",
    "sw_SC_bypass = pp.create_switch(net_2b, bus=3, element=4, et='b', type='CB', closed=True)\n",
    "imp_SC = pp.create_impedance(net_2b, from_bus=3, to_bus=4, rft_pu=0.0000001272, xft_pu=-0.0636,\n",
    "                             rtf_pu=0.0000001272, xtf_pu=-0.0636, sn_mva=250, in_service=True) #Just some default values\n",
    "#Adjust orginal Line 3 to connect to new buses instead.\n",
    "net_2b.line.at[1, ['length_km', 'to_bus', 'name']] = [0.5, 3, 'line1_SC']                        \n",
    "lineSC2 = pp.create_line_from_parameters(net_2b, name='line2_SC', c_nf_per_km=net_2b.line.at[1,'c_nf_per_km'],\n",
    "                       df=net_2b.line.at[1, 'df'], from_bus=4, g_us_per_km=net_2b.line.at[1, 'g_us_per_km'],\n",
    "                       in_service=net_2b.line.at[1, 'in_service'], length_km=0.5, max_i_ka=net_2b.line.at[1, 'max_i_ka'],\n",
    "                       max_loading_percent=net_2b.line.at[1, 'max_loading_percent'], parallel=net_2b.line.at[1, 'parallel'],\n",
    "                       r_ohm_per_km=net_2b.line.at[1, 'r_ohm_per_km'], std_type=net_2b.line.at[1, 'std_type'], to_bus=1, \n",
    "                       type=net_2b.line.at[1, 'type'], x_ohm_per_km=net_2b.line.at[1, 'x_ohm_per_km'])\n",
    "plot.simple_plot(net_2b)"
   ]
  },
  {
   "cell_type": "code",
   "execution_count": 6,
   "metadata": {},
   "outputs": [],
   "source": [
    "##Function to calculate line reactance in pu\n",
    "def X_pu(net, line_index):  \n",
    "    s_base = 100e6\n",
    "    v_base = 230e3\n",
    "    x_base = pow(v_base,2) / s_base\n",
    "    x_line_ohm = net_2b.line.x_ohm_per_km[line_index]\n",
    "    x_line_pu = x_line_ohm / x_base # Can take one since this line is divivded into \n",
    "                                                  # 2 identical lines with length 0.5 km\n",
    "    return x_line_pu"
   ]
  },
  {
   "cell_type": "code",
   "execution_count": 7,
   "metadata": {},
   "outputs": [],
   "source": [
    "##Function to calculate loadingt percentage reference for the series compensation\n",
    "def LP_ref(net):\n",
    "    lp_ref = stat.mean(net.res_line.loading_percent)\n",
    "    return lp_ref  "
   ]
  },
  {
   "cell_type": "code",
   "execution_count": 8,
   "metadata": {},
   "outputs": [],
   "source": [
    "##Function to return a reference network with FACTS devices disabled with results aquired after pp.runpp()\n",
    "def Net_copy_noFACTS(net):\n",
    "    network = copy.deepcopy(net) #To not changing anything in actual network\n",
    "    network.switch.closed[0] = False \n",
    "    network.switch.closed[1] = True\n",
    "    pp.runpp(network)\n",
    "    return network"
   ]
  },
  {
   "cell_type": "code",
   "execution_count": 9,
   "metadata": {},
   "outputs": [],
   "source": [
    "##Function for nose curve\n",
    "def NoseCurve(bus_index, net, shunt, sc, line_load_limit):\n",
    "    network = Net_copy_noFACTS(net) #To not changing anything in actual network\n",
    "    fig = plt.figure()\n",
    "    \n",
    "    load_increment = 0.02\n",
    "    load_start = 0.1\n",
    "    load_prev = 0.1 - load_increment\n",
    "    l_arr = np.array([])\n",
    "    v_res = np.array([])\n",
    "    l_ind = 0\n",
    "    line_ind = 1\n",
    "    l_p_mw = network.load.p_mw[l_ind]\n",
    "    l_q_mvar = network.load.q_mvar[l_ind]\n",
    "    x_line_pu = X_pu(network, 1)\n",
    "    k_old = 0 #initialise as 0\n",
    "    q_old = 0\n",
    "    networkFailure = False\n",
    "        \n",
    "    while not networkFailure: \n",
    "        #Scaling\n",
    "        l_scaling = load_prev + load_increment\n",
    "        load_prev = l_scaling\n",
    "        network.load.p_mw[l_ind] = l_p_mw*l_scaling\n",
    "        network.load.q_mvar[l_ind] = l_q_mvar*l_scaling\n",
    "        \n",
    "        try:            \n",
    "            pp.runpp(network)\n",
    "            \n",
    "            # Enable FACTS devices if they should be\n",
    "            network.switch.closed[0] = shunt \n",
    "            if sc == True:\n",
    "                network.switch.closed[1] = False\n",
    "            else: \n",
    "                network.switch.closed[1] = True\n",
    "            \n",
    "            # Shunt compensation\n",
    "            v_ref_pu = 1\n",
    "            q_comp = Shunt_q_comp(network, v_ref_pu, bus_index, q_old)\n",
    "            network.shunt.q_mvar =  q_comp\n",
    "            #print(network.shunt.q_mvar)\n",
    "\n",
    "            # Series compensation\n",
    "            i_ref = 41.12944816652619#45.12148693231915 #Should be changed every X time steps to emulate \n",
    "                                      #change by system operator when implemented in RL.\n",
    "            k_x_comp_pu = K_x_comp_pu(network, i_ref, line_ind, k_old)\n",
    "            network.impedance.loc[0, ['xft_pu','xtf_pu']] = x_line_pu * k_x_comp_pu\n",
    "            #print(k_x_comp_pu)\n",
    "        \n",
    "            pp.runpp(network)\n",
    "            \n",
    "            if len([x for x in network.res_line.loading_percent if x >line_load_limit])>0:\n",
    "                networkFailure=True;\n",
    "                print('Nosecurve stop: line load limit reached')\n",
    "            if not networkFailure:\n",
    "                v_res = np.append(v_res, network.res_bus.vm_pu[bus_index])    \n",
    "                l_arr = np.append(l_arr, l_scaling)\n",
    "                q_old = q_comp #update for next iter\n",
    "                k_old = k_x_comp_pu \n",
    "        except:\n",
    "            networkFailure=True\n",
    "            print('Nosecurve stop: runpp diverge')\n",
    "        \n",
    "        # Reset FACTS devices to get proper transition next time step.\n",
    "        network.switch.closed[0] = False \n",
    "        network.switch.closed[1] = True\n",
    "\n",
    "    plt.plot(l_arr, v_res, figure=fig)\n",
    "    plt.ylabel('Bus Voltage [pu]')\n",
    "    plt.xlabel('Active power [pu]')\n",
    "    plt.grid(True)\n",
    "    \n",
    "    return [fig, v_res, l_arr]"
   ]
  },
  {
   "cell_type": "code",
   "execution_count": 10,
   "metadata": {},
   "outputs": [],
   "source": [
    "##Function to merge figures into 1\n",
    "def MergeFig(v_res1, l_arr1, label1, v_res2, l_arr2, label2, v_res3, l_arr3, label3):\n",
    "    fig = plt.figure()\n",
    "    plt.plot(l_arr1, v_res1, figure=fig, label=label1)\n",
    "    plt.plot(l_arr2, v_res2, figure=fig, label=label2)\n",
    "    plt.plot(l_arr3, v_res3, figure=fig, label=label3)\n",
    "    plt.ylabel('Bus Voltage [pu]')\n",
    "    plt.xlabel('Active power load at bus [scaling relative to nominal IEEE]')\n",
    "    plt.grid(True)\n",
    "    plt.legend()\n",
    "    return fig    "
   ]
  },
  {
   "cell_type": "code",
   "execution_count": 11,
   "metadata": {},
   "outputs": [],
   "source": [
    "# SHUNT CONTROLLER\n",
    "class ShuntFACTS(ct.basic_controller.Controller):\n",
    "    def __init__(self, net, busVoltageInd, v_ref_pu, convLim, max_iter=30, shuntIndex=0, q_mvar_rating=50, in_service=True,\n",
    "                 recycle=False, order=0, level=0, **kwargs):\n",
    "        # construct through superclass\n",
    "        super().__init__(net, in_service=in_service, recycle=recycle, order=order, level=level, \n",
    "                         initial_powerflow = True, **kwargs)\n",
    "        \n",
    "        # Initialise class variables\n",
    "        self.shuntIndex = shuntIndex\n",
    "        self.busVoltageInd = busVoltageInd\n",
    "        self.ref = v_ref_pu # reference value to reach\n",
    "        self.convLim = convLim # limit threshold for convergence\n",
    "        self.meas = self.net.res_bus.vm_pu[busVoltageInd]\n",
    "        self.applied = False\n",
    "        self.q_mvar_max = q_mvar_rating\n",
    "        self.q_mvar_min = -q_mvar_rating\n",
    "        self.iter_counter = 0 # count number of iterations\n",
    "        self.maxed_counter = 0 #To count iterations if maxed out and cant converge to v_ref\n",
    "        self.max_iter = max_iter\n",
    "        self.v_delta = 0\n",
    "        self.v_delta_accum = 0\n",
    "\n",
    "    # return boolean for if controled has converged to ref value\n",
    "    def is_converged(self):\n",
    "        self.meas = self.net.res_bus.vm_pu[self.busVoltageInd]\n",
    "        #Converged if within limit or output maxed for three iterations without convergence\n",
    "        if abs(self.meas-self.ref) < self.convLim or self.maxed_counter >= 4 or self.iter_counter == self.max_iter:\n",
    "            self.applied = True              \n",
    "        return self.applied\n",
    "\n",
    "    # In case the controller is not yet converged, the control step is executed. \n",
    "    def control_step(self):\n",
    "        # Measurement\n",
    "        self.meas = self.net.res_bus.vm_pu[self.busVoltageInd]\n",
    "        self.v_delta = self.meas - self.ref\n",
    "        \n",
    "        # Control Coefficients\n",
    "        K_p = 10 # Factor 10 is to cap at rating when v_delta is +/- 0.1 pu.\n",
    "        K_i = 15\n",
    "        \n",
    "        # PI-control equation\n",
    "        self.net.shunt.q_mvar[self.shuntIndex] = K_p*self.q_mvar_max*(self.v_delta) + K_i * self.q_mvar_max*  self.v_delta_accum\n",
    "\n",
    "        # Make sure output don't exceed rating\n",
    "        if self.net.shunt.q_mvar[self.shuntIndex] + 0.00001 >= self.q_mvar_max:\n",
    "            self.net.shunt.q_mvar[self.shuntIndex] = self.q_mvar_max\n",
    "            self.maxed_counter += 1    \n",
    "        elif self.net.shunt.q_mvar[self.shuntIndex] - 0.00001 <= self.q_mvar_min:\n",
    "            self.net.shunt.q_mvar[self.shuntIndex] = self.q_mvar_min\n",
    "            self.maxed_counter += 1\n",
    "\n",
    "        # Update for posible next iter of control\n",
    "        #print('SHUNT:')\n",
    "        #print(self.v_delta_accum)\n",
    "        self.v_delta_accum += self.v_delta\n",
    "        self.iter_counter += 1\n",
    "        \n",
    "        #print(self.net.shunt.q_mvar[self.shuntIndex])\n",
    "        #print(self.meas)\n",
    "        #print(self.iter_counter)\n",
    "        #print(self.maxed_counter)\n",
    "        \n",
    "        \n",
    "    # Finalize function MIGHT BE NEEDED IF RESET OF SOME CLASS VARIABLES NEEDED: DEPENDS ON HOW CALLED IN MAIN MODEL\n",
    "    def finalize_control(self):\n",
    "        self.applied = False\n",
    "        self.v_delta_accum = 0\n",
    "        self.iter_counter = 0 # count number of iterations\n",
    "        self.maxed_counter = 0 #To count iterations if maxed out and cant converge to v_ref   "
   ]
  },
  {
   "cell_type": "code",
   "execution_count": 12,
   "metadata": {},
   "outputs": [],
   "source": [
    "#Series CONTROLLER\n",
    "class SeriesFACTS(ct.basic_controller.Controller):\n",
    "    def __init__(self, net, lineLPInd, lp_ref, convLim, x_line_pu, max_iter=30, switchInd=1,serIndex=0, x_comp_rating=0.4, in_service=True,\n",
    "                 recycle=False, order=0, level=0, **kwargs):\n",
    "        # construct through superclass\n",
    "        super().__init__(net, in_service=in_service, recycle=recycle, order=order, level=level, \n",
    "                         initial_powerflow = True, **kwargs)\n",
    "        \n",
    "        # Initialise class variables\n",
    "        self.switchInd = switchInd\n",
    "        self.x_line_pu = x_line_pu\n",
    "        self.serIndex = serIndex\n",
    "        self.lineLPInd = lineLPInd\n",
    "        self.ref = lp_ref # reference value to reach\n",
    "        self.convLim = convLim # limit threshold for convergence\n",
    "        self.meas = 0\n",
    "        self.applied = False\n",
    "        self.x_comp_max = x_comp_rating\n",
    "        self.x_comp_min = -x_comp_rating\n",
    "        self.iter_counter = 0 # count number of iterations\n",
    "        self.maxed_counter = 0 #To count iterations if maxed out and cant converge to v_ref\n",
    "        self.max_iter = max_iter\n",
    "        self.lp_delta = 0\n",
    "        self.lp_delta_accum = 0\n",
    "        \n",
    "        #Start disabled:\n",
    "        self.net.switch.closed[self.switchInd] = True\n",
    "\n",
    "    # return boolean for if controled has converged to ref value\n",
    "    def is_converged(self):\n",
    "        self.meas = self.net.res_line.loading_percent[self.lineLPInd]\n",
    "        #Converged if within limit or output maxed for three iterations without convergence\n",
    "        if abs(self.meas-self.ref)/100 < self.convLim or self.maxed_counter >= 4 or self.iter_counter == self.max_iter:\n",
    "            self.applied = True              \n",
    "        return self.applied\n",
    "\n",
    "    # In case the controller is not yet converged, the control step is executed. \n",
    "    def control_step(self):\n",
    "        # Make sure it is enabled\n",
    "        self.net.switch.closed[self.switchInd] = False\n",
    "        \n",
    "        # Measurement\n",
    "        self.meas = self.net.res_line.loading_percent[self.lineLPInd]\n",
    "        self.lp_delta = (self.meas - self.ref) / 100 #div by 100 to get value between 0-1\n",
    "        \n",
    "        # Control Coefficients\n",
    "        K_p = 20 \n",
    "        K_i = 15\n",
    "        \n",
    "        # PI-control equation\n",
    "        op = self.x_line_pu * (K_p*self.x_comp_max*(self.lp_delta) + K_i *self.x_comp_max*self.lp_delta_accum)\n",
    "        \n",
    "        # Make sure output don't exceed rating\n",
    "        if op + 0.00001 >= self.x_line_pu* self.x_comp_max:\n",
    "            op = self.x_line_pu * self.x_comp_max\n",
    "            self.maxed_counter += 1    \n",
    "        elif op - 0.00001 <= self.x_line_pu * self.x_comp_min:\n",
    "            op = self.x_line_pu * self.x_comp_min\n",
    "            self.maxed_counter += 1\n",
    "            \n",
    "        # Set output of device\n",
    "        self.net.impedance.loc[self.serIndex, ['xft_pu','xtf_pu']] = op\n",
    "\n",
    "        # Bypassing series device if impedance close to 0\n",
    "        if abs(op) < 0.0001: #Helping with convergence\n",
    "            self.net.switch.closed[self.switchInd] = True \n",
    "\n",
    "        # Update for posible next iter of control\n",
    "        #print('SERIES:')\n",
    "        #print(self.lp_delta_accum)\n",
    "        self.lp_delta_accum += self.lp_delta\n",
    "        self.iter_counter += 1\n",
    "        \n",
    "        #print(op)\n",
    "        #print(self.meas)\n",
    "        #print(self.iter_counter)\n",
    "        #print(self.maxed_counter)\n",
    "        \n",
    "    # Finalize function MIGHT BE NEEDED IF RESET OF SOME CLASS VARIABLES NEEDED: DEPENDS ON HOW CALLED IN MAIN MODEL\n",
    "    def finalize_control(self):\n",
    "        self.applied = False\n",
    "        self.lp_delta_accum = 0\n",
    "        self.iter_counter = 0 # count number of iterations\n",
    "        self.maxed_counter = 0 #To count iterations if maxed out and cant converge to v_ref    "
   ]
  },
  {
   "cell_type": "code",
   "execution_count": 13,
   "metadata": {
    "scrolled": true
   },
   "outputs": [
    {
     "name": "stdout",
     "output_type": "stream",
     "text": [
      "170.0\n",
      "      vm_pu  va_degree        p_mw     q_mvar\n",
      "0  1.000000   0.000000 -172.105825 -100.29601\n",
      "1  0.962249  -2.488899  170.000000  105.35000\n",
      "2       NaN        NaN    0.000000    0.00000\n",
      "3  0.981527  -1.226675    0.000000    0.00000\n",
      "4  0.981527  -1.226675    0.000000    0.00000\n"
     ]
    },
    {
     "data": {
      "text/plain": [
       "0    0\n",
       "Name: tap_pos, dtype: int64"
      ]
     },
     "execution_count": 13,
     "metadata": {},
     "output_type": "execute_result"
    }
   ],
   "source": [
    "net_2b.switch.closed[0] = False\n",
    "net_2b.switch.closed[1] = True\n",
    "l_ind = 0\n",
    "l_scaling = 1\n",
    "l_p_mw = net_2b.load.p_mw[l_ind]\n",
    "l_q_mvar = net_2b.load.q_mvar[l_ind]\n",
    "net_2b.load.p_mw[l_ind] = l_p_mw*l_scaling\n",
    "net_2b.load.q_mvar[l_ind] = l_q_mvar*l_scaling\n",
    "print(net_2b.load.p_mw[l_ind])\n",
    "net_2b.trafo.tap_pos = 0\n",
    "pp.runpp(net_2b, run_control=False)\n",
    "print(net_2b.res_bus)\n",
    "net_2b.trafo.tap_pos"
   ]
  },
  {
   "cell_type": "code",
   "execution_count": 14,
   "metadata": {},
   "outputs": [
    {
     "name": "stdout",
     "output_type": "stream",
     "text": [
      "0    52.742352\n",
      "1    73.023781\n",
      "2    73.869568\n",
      "Name: loading_percent, dtype: float64\n",
      "66.54523375341897\n",
      "      vm_pu  va_degree        p_mw      q_mvar\n",
      "0  1.000000   0.000000 -260.103655 -163.734438\n",
      "1  0.951887  -2.704083  255.000000  158.025000\n",
      "2  0.949796  -2.703072    0.000000    1.804224\n",
      "3  0.964822  -2.516510    0.000000    0.000000\n",
      "4  0.988196  -0.161438    0.000000    0.000000\n"
     ]
    },
    {
     "data": {
      "text/html": [
       "<div>\n",
       "<style scoped>\n",
       "    .dataframe tbody tr th:only-of-type {\n",
       "        vertical-align: middle;\n",
       "    }\n",
       "\n",
       "    .dataframe tbody tr th {\n",
       "        vertical-align: top;\n",
       "    }\n",
       "\n",
       "    .dataframe thead th {\n",
       "        text-align: right;\n",
       "    }\n",
       "</style>\n",
       "<table border=\"1\" class=\"dataframe\">\n",
       "  <thead>\n",
       "    <tr style=\"text-align: right;\">\n",
       "      <th></th>\n",
       "      <th>object</th>\n",
       "      <th>in_service</th>\n",
       "      <th>order</th>\n",
       "      <th>level</th>\n",
       "      <th>recycle</th>\n",
       "    </tr>\n",
       "  </thead>\n",
       "  <tbody>\n",
       "  </tbody>\n",
       "</table>\n",
       "</div>"
      ],
      "text/plain": [
       "Empty DataFrame\n",
       "Columns: [object, in_service, order, level, recycle]\n",
       "Index: []"
      ]
     },
     "execution_count": 14,
     "metadata": {},
     "output_type": "execute_result"
    }
   ],
   "source": [
    "#SETTINGS\n",
    "net_2b.switch.closed[0] = True\n",
    "net_2b.switch.closed[1] = False\n",
    "l_scaling = 1.5\n",
    "net_2b.load.p_mw[0] = net_2b.load.p_mw[0] * l_scaling\n",
    "net_2b.load.q_mvar[0] = net_2b.load.q_mvar[0] * l_scaling\n",
    "pp.runpp(net_2b)\n",
    "\n",
    "lp_ref = LP_ref(net_2b)# P_ref(Net_copy_noFACTS(net_2b), 0)\n",
    "\n",
    "# PRINTS\n",
    "print(net_2b.res_line.loading_percent)\n",
    "print(lp_ref)\n",
    "print(net_2b.res_bus)\n",
    "net_2b.controller"
   ]
  },
  {
   "cell_type": "code",
   "execution_count": 15,
   "metadata": {},
   "outputs": [
    {
     "name": "stdout",
     "output_type": "stream",
     "text": [
      "1.0\n"
     ]
    }
   ],
   "source": [
    "# Implement new control loops\n",
    "sh_ctrl = ShuntFACTS(net=net_2b, busVoltageInd=1, v_ref_pu=1.0, convLim=0.0005, q_mvar_rating = 50)\n",
    "print(sh_ctrl.ref)\n",
    "pp.runpp(net_2b, run_control=True)"
   ]
  },
  {
   "cell_type": "code",
   "execution_count": 16,
   "metadata": {},
   "outputs": [
    {
     "name": "stdout",
     "output_type": "stream",
     "text": [
      "0    1.000000\n",
      "1    0.963310\n",
      "2    1.018849\n",
      "3    0.974566\n",
      "4    0.989812\n",
      "Name: vm_pu, dtype: float64\n"
     ]
    }
   ],
   "source": [
    "print(net_2b.res_bus.vm_pu)"
   ]
  },
  {
   "cell_type": "code",
   "execution_count": 17,
   "metadata": {},
   "outputs": [
    {
     "name": "stdout",
     "output_type": "stream",
     "text": [
      "0.06048\n",
      "150\n"
     ]
    }
   ],
   "source": [
    "print(X_pu(net_2b, 1))\n",
    "ser_ctrl = SeriesFACTS(net=net_2b, lineLPInd=1, lp_ref=150, convLim=0.0005, x_line_pu= X_pu(net_2b, 1))\n",
    "print(ser_ctrl.ref)\n",
    "pp.runpp(net_2b, run_control=True)"
   ]
  },
  {
   "cell_type": "code",
   "execution_count": 18,
   "metadata": {},
   "outputs": [
    {
     "name": "stdout",
     "output_type": "stream",
     "text": [
      "0    1.000000\n",
      "1    0.957798\n",
      "2    1.013019\n",
      "3    0.976316\n",
      "4    0.981844\n",
      "Name: vm_pu, dtype: float64\n"
     ]
    }
   ],
   "source": [
    "print(net_2b.res_bus.vm_pu)"
   ]
  },
  {
   "cell_type": "code",
   "execution_count": 19,
   "metadata": {},
   "outputs": [
    {
     "data": {
      "text/plain": [
       "True"
      ]
     },
     "execution_count": 19,
     "metadata": {},
     "output_type": "execute_result"
    }
   ],
   "source": [
    "0 % 6 == 0"
   ]
  },
  {
   "cell_type": "code",
   "execution_count": 22,
   "metadata": {},
   "outputs": [
    {
     "data": {
      "text/plain": [
       "True"
      ]
     },
     "execution_count": 22,
     "metadata": {},
     "output_type": "execute_result"
    }
   ],
   "source": [
    "net_2b.controller.in_service[1]"
   ]
  },
  {
   "cell_type": "code",
   "execution_count": 50,
   "metadata": {},
   "outputs": [
    {
     "name": "stdout",
     "output_type": "stream",
     "text": [
      "6.0\n",
      "loading_arr_orig:  [0.33333333 0.65       1.         1.33333333 1.66666667 2.\n",
      " 1.66666667 1.33333333 1.         0.68333333 0.33333333 0.        ]\n",
      "\n",
      "v_arr_orig:  [0.66666667 1.3        2.         2.66666667 3.33333333 4.\n",
      " 3.33333333 2.66666667 2.         1.36666667 0.66666667]\n",
      "\n",
      "loading_arr:  [0.33333333 0.65       1.         1.33333333 1.66666667 2.\n",
      " 1.66666667 1.33333333 1.         0.68333333 0.33333333]\n",
      "\n",
      "v_arr:  [0.66666667 1.3        2.         2.66666667 3.33333333 4.\n",
      " 3.33333333 2.66666667 0.9        1.36666667]\n",
      "\n",
      "v_arr_sorted:  [0.6666666666666666, 1.3, 1.3666666666666665, 0.9, 2.0, 2.6666666666666665, 2.6666666666666665, 3.3333333333333335, 3.3333333333333335, 4.0]\n",
      "\n",
      "loading_arr_sorted:  [0.3333333333333333, 0.3333333333333333, 0.65, 0.6833333333333332, 1.0, 1.0, 1.3333333333333333, 1.3333333333333333, 1.6666666666666667, 1.6666666666666667, 2.0]\n",
      "\n",
      "v_afterLoadChange:  [1.3        2.         2.66666667 3.33333333 4.         3.33333333\n",
      " 2.66666667 0.9        1.36666667 0.66666667]\n",
      "\n",
      "v_afterLoadChange_sorted:  [1.3, 2.0, 0.6666666666666666, 1.3666666666666665, 2.6666666666666665, 0.9, 3.3333333333333335, 2.6666666666666665, 4.0, 3.3333333333333335]\n",
      "The above line was not sorted correctly since wrong loading_arr was used! this was the bug in comparePerformance!\n",
      "\n",
      "correctly sorted:\n",
      "loading_arr_afterLoadChange:  [0.65       1.         1.33333333 1.66666667 2.         1.66666667\n",
      " 1.33333333 1.         0.68333333 0.33333333 0.        ]\n",
      "\n",
      "v_afterLoadChange_sorted_correct:  [0.6666666666666666, 1.3, 1.3666666666666665, 0.9, 2.0, 2.6666666666666665, 2.6666666666666665, 3.3333333333333335, 3.3333333333333335, 4.0]\n"
     ]
    }
   ],
   "source": [
    "import numpy as np\n",
    "import statistics as stat\n",
    "lp=[2, 3.9, 6, 8, 10, 12, 10, 8, 6, 4.1, 2, 0]\n",
    "lp = np.array(lp)\n",
    "lpmean = stat.mean(lp)\n",
    "print(lpmean)\n",
    "loading_arr_orig= lp/lpmean\n",
    "print('loading_arr_orig: ', loading_arr_orig)\n",
    "print()\n",
    "v_arr_orig = loading_arr*2\n",
    "print('v_arr_orig: ', v_arr_orig)\n",
    "print()\n",
    "\n",
    "loading_arr = loading_arr_orig[0:-1]\n",
    "v_arr_orig[-3] = 0.9\n",
    "print('loading_arr: ', loading_arr)\n",
    "print()\n",
    "\n",
    "v_arr = v_arr_orig[0:-1]\n",
    "print('v_arr: ', v_arr)\n",
    "print()\n",
    "\n",
    "v_arr_sorted = [x for _, x in sorted(zip(loading_arr, v_arr))]\n",
    "print('v_arr_sorted: ', v_arr_sorted)\n",
    "print()\n",
    "loading_arr_sorted = sorted(loading_arr)\n",
    "print('loading_arr_sorted: ', loading_arr_sorted)\n",
    "# BY looking at above prints we know the sorting is done correctly for \n",
    "#v_arr_sorted and loading_arr_sorted as 0.9 comes in right place of v_arr\n",
    "\n",
    "\n",
    "#How about voltage shifted one time step to mimic v_afterLoadChange?\n",
    "print()\n",
    "v_afterLoadChange= v_arr_orig[1:]\n",
    "print('v_afterLoadChange: ', v_afterLoadChange)\n",
    "\n",
    "v_afterLoadChange_sorted = [x for _, x in sorted(zip(loading_arr, v_afterLoadChange))]\n",
    "print()\n",
    "print('v_afterLoadChange_sorted: ', v_afterLoadChange_sorted)\n",
    "print('The above line was not sorted correctly since wrong loading_arr was used! this was the bug in comparePerformance!')\n",
    "print()\n",
    "print('correctly sorted:')\n",
    "loading_arr_afterLoadChange = loading_arr_orig[1:]\n",
    "print('loading_arr_afterLoadChange: ', loading_arr_afterLoadChange)\n",
    "print()\n",
    "v_afterLoadChange_sorted_correct = [x for _, x in sorted(zip(loading_arr_afterLoadChange, v_afterLoadChange))]\n",
    "print('v_afterLoadChange_sorted_correct: ', v_afterLoadChange_sorted_correct)\n"
   ]
  },
  {
   "cell_type": "code",
   "execution_count": null,
   "metadata": {},
   "outputs": [],
   "source": []
  }
 ],
 "metadata": {
  "kernelspec": {
   "display_name": "Python 3",
   "language": "python",
   "name": "python3"
  },
  "language_info": {
   "codemirror_mode": {
    "name": "ipython",
    "version": 3
   },
   "file_extension": ".py",
   "mimetype": "text/x-python",
   "name": "python",
   "nbconvert_exporter": "python",
   "pygments_lexer": "ipython3",
   "version": "3.7.4"
  }
 },
 "nbformat": 4,
 "nbformat_minor": 2
}
