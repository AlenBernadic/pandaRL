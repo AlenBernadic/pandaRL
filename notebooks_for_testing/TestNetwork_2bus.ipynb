{
 "cells": [
  {
   "cell_type": "code",
   "execution_count": 1,
   "metadata": {},
   "outputs": [],
   "source": [
    "import pandapower as pp\n",
    "import pandapower.networks as nw\n",
    "import pandapower.plotting as plot\n",
    "import matplotlib.pyplot as plt\n",
    "import math\n",
    "import numpy as np\n",
    "import copy\n",
    "import pandapower.shortcircuit as sc\n",
    "import pandapower.control as ct\n",
    "import statistics as stat\n",
    "#from matplotlib.transforms import BlendedGenericTransform\n",
    "#from pandapower.plotting import simple_plot, simple_plotly, pf_res_plotly\n",
    "\n",
    "# Predefined network of IEEE 4gs bus system \n",
    "net_temp = pp.networks.case4gs()\n",
    "#plot.simple_plot(net)"
   ]
  },
  {
   "cell_type": "code",
   "execution_count": 2,
   "metadata": {},
   "outputs": [
    {
     "name": "stdout",
     "output_type": "stream",
     "text": [
      "170.0\n",
      "105.35000000000001\n"
     ]
    }
   ],
   "source": [
    "#COPY PARAMETERS FROM TEMP NETWORK TO USE IN 2 BUS RADIAL SYSTEM.\n",
    "#BUSES\n",
    "b0_in_service = net_temp.bus.in_service[0]\n",
    "b0_max_vm_pu = net_temp.bus.max_vm_pu[0]\n",
    "b0_min_vm_pu = net_temp.bus.min_vm_pu[0]\n",
    "b0_name = net_temp.bus.name[0]\n",
    "b0_type = net_temp.bus.type[0]\n",
    "b0_vn_kv = net_temp.bus.vn_kv[0]\n",
    "b0_zone = net_temp.bus.zone[0]\n",
    "b0_geodata = (3,2)\n",
    "\n",
    "b1_in_service = net_temp.bus.in_service[1]\n",
    "b1_max_vm_pu = net_temp.bus.max_vm_pu[1]\n",
    "b1_min_vm_pu = net_temp.bus.min_vm_pu[1]\n",
    "b1_name = net_temp.bus.name[1]\n",
    "b1_type = net_temp.bus.type[1]\n",
    "b1_vn_kv = net_temp.bus.vn_kv[1]\n",
    "b1_zone = net_temp.bus.zone[1]\n",
    "b1_geodata = (4,2)\n",
    "\n",
    "#BUS ELEMENTS\n",
    "load_bus = net_temp.load.bus[1]\n",
    "load_in_service = net_temp.load.in_service[1]\n",
    "load_p_mw = net_temp.load.p_mw[1]\n",
    "load_q_mvar = net_temp.load.q_mvar[1]\n",
    "load_scaling = net_temp.load.scaling[1]\n",
    "\n",
    "extGrid_bus = net_temp.ext_grid.bus[0]\n",
    "extGrid_in_service = net_temp.ext_grid.in_service[0]\n",
    "extGrid_va_degree = net_temp.ext_grid.va_degree[0]\n",
    "extGrid_vm_pu = net_temp.ext_grid.vm_pu[0]\n",
    "extGrid_max_p_mw = net_temp.ext_grid.max_p_mw[0]\n",
    "extGrid_min_p_mw = net_temp.ext_grid.min_p_mw[0]\n",
    "extGrid_max_q_mvar = net_temp.ext_grid.max_q_mvar[0]\n",
    "extGrid_min_q_mvar = net_temp.ext_grid.min_q_mvar[0]\n",
    "\n",
    "#LINES\n",
    "line0_scaling = 1\n",
    "line0_c_nf_per_km = net_temp.line.c_nf_per_km[0]\n",
    "line0_df = net_temp.line.df[0]\n",
    "line0_from_bus = net_temp.line.from_bus[0]\n",
    "line0_g_us_per_km = net_temp.line.g_us_per_km[0]\n",
    "line0_in_service = net_temp.line.in_service[0]\n",
    "line0_length_km = net_temp.line.length_km[0]\n",
    "line0_max_i_ka = net_temp.line.max_i_ka[0]\n",
    "line0_max_loading_percent = net_temp.line.max_loading_percent[0]\n",
    "line0_parallel = net_temp.line.parallel[0]\n",
    "line0_r_ohm_per_km = net_temp.line.r_ohm_per_km[0] * line0_scaling\n",
    "line0_to_bus = net_temp.line.to_bus[0]\n",
    "line0_type = net_temp.line.type[0]\n",
    "line0_x_ohm_per_km = net_temp.line.x_ohm_per_km[0] * line0_scaling\n",
    "\n",
    "\n",
    "line1_scaling = 1.2\n",
    "line1_c_nf_per_km = line0_c_nf_per_km\n",
    "line1_df = line0_df\n",
    "line1_from_bus = line0_from_bus \n",
    "line1_g_us_per_km = line0_g_us_per_km\n",
    "line1_in_service = line0_in_service\n",
    "line1_length_km = line0_length_km\n",
    "line1_max_i_ka = line0_max_i_ka\n",
    "line1_max_loading_percent = line0_max_loading_percent\n",
    "line1_parallel = line0_parallel \n",
    "line1_r_ohm_per_km = line0_r_ohm_per_km\n",
    "line1_to_bus = line0_to_bus\n",
    "line1_type = line0_type\n",
    "line1_x_ohm_per_km = line0_x_ohm_per_km * line1_scaling\n",
    "print(load_p_mw)\n",
    "print(load_q_mvar)"
   ]
  },
  {
   "cell_type": "code",
   "execution_count": 3,
   "metadata": {},
   "outputs": [],
   "source": [
    "#CREATE 2 BUS SYSTEM\n",
    "net_2b = pp.create_empty_network()\n",
    "\n",
    "#Create buses\n",
    "b0 = pp.create_bus(net_2b, in_service=b0_in_service, max_vm_pu=b0_max_vm_pu, min_vm_pu=b0_min_vm_pu, \n",
    "                   name=b0_name, type=b0_type, vn_kv=b0_vn_kv, zone= b0_zone, geodata=b0_geodata)\n",
    "\n",
    "b1 = pp.create_bus(net_2b, in_service=b1_in_service, max_vm_pu=b1_max_vm_pu, min_vm_pu=b1_min_vm_pu, \n",
    "                   name=b1_name, type=b1_type, vn_kv=b1_vn_kv, zone= b1_zone, geodata=b1_geodata)\n",
    "\n",
    "\n",
    "\n",
    "#Create bus elements\n",
    "load = pp.create_load(net_2b, bus=load_bus, in_service=load_in_service, \n",
    "                      p_mw=load_p_mw, q_mvar=load_q_mvar, scaling=load_scaling)\n",
    "\n",
    "extGrid = pp.create_ext_grid(net_2b, bus=extGrid_bus, in_service=extGrid_in_service, va_degree=extGrid_va_degree,\n",
    "                             vm_pu=extGrid_vm_pu, max_p_mw=extGrid_max_p_mw, min_p_mw=extGrid_min_p_mw,\n",
    "                             max_q_mvar=extGrid_max_q_mvar, min_q_mvar=extGrid_min_q_mvar)\n",
    "\n",
    "# Create lines\n",
    "l0 = pp.create_line_from_parameters(net_2b, c_nf_per_km=line0_c_nf_per_km, df=line0_df, from_bus=line0_from_bus,\n",
    "                   g_us_per_km=line0_g_us_per_km, in_service=line0_in_service, length_km=line0_length_km,\n",
    "                   max_i_ka=line0_max_i_ka, max_loading_percent=line0_max_loading_percent,\n",
    "                   parallel=line0_parallel, r_ohm_per_km=line0_r_ohm_per_km, to_bus=line0_to_bus, \n",
    "                   type=line0_type, x_ohm_per_km=line0_x_ohm_per_km)\n",
    "\n",
    "l1 = pp.create_line_from_parameters(net_2b, c_nf_per_km=line1_c_nf_per_km, df=line1_df, from_bus=line1_from_bus,\n",
    "                   g_us_per_km=line1_g_us_per_km, in_service=line1_in_service, length_km=line1_length_km,\n",
    "                   max_i_ka=line1_max_i_ka, max_loading_percent=line1_max_loading_percent,\n",
    "                   parallel=line1_parallel, r_ohm_per_km=line1_r_ohm_per_km, to_bus=line1_to_bus, \n",
    "                   type=line1_type, x_ohm_per_km=line1_x_ohm_per_km)"
   ]
  },
  {
   "cell_type": "code",
   "execution_count": 4,
   "metadata": {},
   "outputs": [],
   "source": [
    "####Shunt FACTS device (bus 1)\n",
    "#MV bus\n",
    "bus_SVC = pp.create_bus(net_2b, name='MV SVCtrafo bus', vn_kv=69, type='n', geodata=(4.04,1.98), zone=2, max_vm_pu=1.1,\n",
    "                        min_vm_pu=0.9)\n",
    "#Trafo\n",
    "trafoSVC = pp.create_transformer_from_parameters(net_2b, hv_bus=1, lv_bus=2, in_service=True, \n",
    "                                                name='trafoSVC', sn_mva=110, vn_hv_kv=230 , vn_lv_kv=69, \n",
    "                                                vk_percent=12, vkr_percent=0.26, pfe_kw=55, i0_percent=0.06,\n",
    "                                                shift_degree=0, tap_side='hv', tap_neutral=0, tap_min=-9, tap_max=9,\n",
    "                                                tap_step_percent=1.5, tap_step_degree=0, tap_phase_shifter=False) \n",
    "#Breaker between grid HV bus and trafo HV bus to connect buses\n",
    "sw_SVC = pp.create_switch(net_2b, bus=1, element=0, et='t', type='CB', closed=False)\n",
    "#Shunt devices connected with MV bus\n",
    "shuntDev = pp.create_shunt(net_2b, bus_SVC, 2, in_service=True, name='Shunt Device', step = 1)"
   ]
  },
  {
   "cell_type": "code",
   "execution_count": 5,
   "metadata": {},
   "outputs": [
    {
     "data": {
      "image/png": "[encoded data removed]",
      "text/plain": [
       "<Figure size 720x576 with 1 Axes>"
      ]
     },
     "metadata": {},
     "output_type": "display_data"
    },
    {
     "data": {
      "text/plain": [
       "<matplotlib.axes._subplots.AxesSubplot at 0x257fa10c208>"
      ]
     },
     "execution_count": 5,
     "metadata": {},
     "output_type": "execute_result"
    }
   ],
   "source": [
    "####Series device (at line 1, in middle between bus 0 and 1)\n",
    "#Add intermediate buses for bypass and series compensation impedance\n",
    "bus_SC1 = pp.create_bus(net_2b, name='SC bus 1', vn_kv=230, type='n', geodata=(3.48,2.05), \n",
    "                        zone=2, max_vm_pu=1.1, min_vm_pu=0.9)\n",
    "bus_SC2 = pp.create_bus(net_2b, name='SC bus 2', vn_kv=230, type='n', geodata=(3.52,2.05), \n",
    "                        zone=2, max_vm_pu=1.1, min_vm_pu=0.9)\n",
    "sw_SC_bypass = pp.create_switch(net_2b, bus=3, element=4, et='b', type='CB', closed=True)\n",
    "imp_SC = pp.create_impedance(net_2b, from_bus=3, to_bus=4, rft_pu=0.0000001272, xft_pu=-0.0636,\n",
    "                             rtf_pu=0.0000001272, xtf_pu=-0.0636, sn_mva=250, in_service=True) #Just some default values\n",
    "#Adjust orginal Line 3 to connect to new buses instead.\n",
    "net_2b.line.at[1, ['length_km', 'to_bus', 'name']] = [0.5, 3, 'line1_SC']                        \n",
    "lineSC2 = pp.create_line_from_parameters(net_2b, name='line2_SC', c_nf_per_km=net_2b.line.at[1,'c_nf_per_km'],\n",
    "                       df=net_2b.line.at[1, 'df'], from_bus=4, g_us_per_km=net_2b.line.at[1, 'g_us_per_km'],\n",
    "                       in_service=net_2b.line.at[1, 'in_service'], length_km=0.5, max_i_ka=net_2b.line.at[1, 'max_i_ka'],\n",
    "                       max_loading_percent=net_2b.line.at[1, 'max_loading_percent'], parallel=net_2b.line.at[1, 'parallel'],\n",
    "                       r_ohm_per_km=net_2b.line.at[1, 'r_ohm_per_km'], std_type=net_2b.line.at[1, 'std_type'], to_bus=1, \n",
    "                       type=net_2b.line.at[1, 'type'], x_ohm_per_km=net_2b.line.at[1, 'x_ohm_per_km'])\n",
    "plot.simple_plot(net_2b)"
   ]
  },
  {
   "cell_type": "code",
   "execution_count": 6,
   "metadata": {},
   "outputs": [],
   "source": [
    "##Function to calculate line reactance in pu\n",
    "def X_pu(net, line_index):  \n",
    "    s_base = 100e6\n",
    "    v_base = 230e3\n",
    "    x_base = pow(v_base,2) / s_base\n",
    "    x_line_ohm = net_2b.line.x_ohm_per_km[line_index]\n",
    "    x_line_pu = x_line_ohm / x_base # Can take one since this line is divivded into \n",
    "                                                  # 2 identical lines with length 0.5 km\n",
    "    return x_line_pu"
   ]
  },
  {
   "cell_type": "code",
   "execution_count": 7,
   "metadata": {},
   "outputs": [],
   "source": [
    "##Function to calculate loadingt percentage reference for the series compensation\n",
    "def LP_ref(net, line_index):\n",
    "    lp_ref = stat.mean(net.res_line.loading_percent)\n",
    "    return lp_ref  "
   ]
  },
  {
   "cell_type": "code",
   "execution_count": 8,
   "metadata": {},
   "outputs": [],
   "source": [
    "##Function to return a reference network with FACTS devices disabled with results aquired after pp.runpp()\n",
    "def Net_copy_noFACTS(net):\n",
    "    network = copy.deepcopy(net) #To not changing anything in actual network\n",
    "    network.switch.closed[0] = False \n",
    "    network.switch.closed[1] = True\n",
    "    pp.runpp(network)\n",
    "    return network"
   ]
  },
  {
   "cell_type": "code",
   "execution_count": 9,
   "metadata": {},
   "outputs": [],
   "source": [
    "##Function for transition from reference power to reactance of \"TCSC\"\n",
    "def K_x_comp_pu(net, loading_perc_ref, line_index, k_old): \n",
    "    #line_from_bus = net.line.from_bus[line_index]\n",
    "    #line_to_bus = net.line.to_bus[line_index]\n",
    "    \n",
    "    #x_line_pu = X_pu(net, line_index)\n",
    "\n",
    "    #k_x_comp_max_ind = 0.4 #maximum inductive reactance compensation of the line\n",
    "    #k_x_comp_max_cap = -0.4 #maximum capacitive reactance compensation of the line\n",
    "    #v_s_pu = net.res_bus.vm_pu[line_from_bus]\n",
    "    #v_r_pu = net.res_bus.vm_pu[line_to_bus]\n",
    "    #delta_deg = net.res_bus.va_degree[line_from_bus] - net.res_bus.va_degree[line_to_bus]\n",
    "    #k_delta = ((v_s_pu * v_r_pu * math.sin(math.radians(delta_deg))) / (p_ref_pu* x_line_pu)) - 1 - k_old\n",
    "    #k_x_comp = k_delta + k_old\n",
    "    #print(k_x_comp)\n",
    "    \n",
    "    ##NEW VERSION TEST:\n",
    "    c = 5 #Coefficient for transnition tuned to hit equal load sharing at nominal IEEE\n",
    "    k_x_comp_max_ind = 0.4\n",
    "    k_x_comp_max_cap = -k_x_comp_max_ind\n",
    "    loading_perc_meas = net.res_line.loading_percent[line_index]\n",
    "    k_delta = (c * k_x_comp_max_ind * (loading_perc_meas - loading_perc_ref) / 100) - k_old #100 To get percentage in pu\n",
    "    k_x_comp = k_delta + k_old\n",
    "    \n",
    "    #Bypassing series device if impedance close to 0\n",
    "    if abs(k_x_comp) < 0.0001: #Helping with convergence\n",
    "        net.switch.closed[1] = True  #ACTUAL network, not a copy\n",
    "    \n",
    "    if k_x_comp > k_x_comp_max_ind:\n",
    "        k_x_comp = k_x_comp_max_ind\n",
    "    if k_x_comp < k_x_comp_max_cap:\n",
    "        k_x_comp = k_x_comp_max_cap\n",
    "    return k_x_comp"
   ]
  },
  {
   "cell_type": "code",
   "execution_count": 10,
   "metadata": {},
   "outputs": [],
   "source": [
    "##Function for transition from reference parameter to reactive power output of shunt device\n",
    "def Shunt_q_comp(net, v_ref_pu, bus_index, q_old):   \n",
    "    v_bus_pu = net.res_bus.vm_pu[bus_index]\n",
    "    k = 10 #Coefficient for transition,\n",
    "    q_rated = 100 #Mvar\n",
    "    q_min = -q_rated\n",
    "    q_max = q_rated\n",
    "    q_delta = k*q_rated*(v_bus_pu-v_ref_pu)-q_old #q_old might come in handy later with RL if able to take actions without \n",
    "                                                  #independent change in environment\n",
    "    q_comp = q_delta + q_old\n",
    "    \n",
    "    if q_comp > q_max:\n",
    "        q_comp = q_max\n",
    "    if q_comp < q_min:\n",
    "        q_comp = q_min\n",
    "    \n",
    "    #print(q_comp)\n",
    "    return q_comp"
   ]
  },
  {
   "cell_type": "code",
   "execution_count": 11,
   "metadata": {},
   "outputs": [],
   "source": [
    "##Function for nose curve\n",
    "def NoseCurve(bus_index, net, shunt, sc, line_load_limit):\n",
    "    network = Net_copy_noFACTS(net) #To not changing anything in actual network\n",
    "    fig = plt.figure()\n",
    "    \n",
    "    load_increment = 0.02\n",
    "    load_start = 0.1\n",
    "    load_prev = 0.1 - load_increment\n",
    "    l_arr = np.array([])\n",
    "    v_res = np.array([])\n",
    "    l_ind = 0\n",
    "    line_ind = 1\n",
    "    l_p_mw = network.load.p_mw[l_ind]\n",
    "    l_q_mvar = network.load.q_mvar[l_ind]\n",
    "    x_line_pu = X_pu(network, 1)\n",
    "    k_old = 0 #initialise as 0\n",
    "    q_old = 0\n",
    "    networkFailure = False\n",
    "        \n",
    "    while not networkFailure: \n",
    "        #Scaling\n",
    "        l_scaling = load_prev + load_increment\n",
    "        load_prev = l_scaling\n",
    "        network.load.p_mw[l_ind] = l_p_mw*l_scaling\n",
    "        network.load.q_mvar[l_ind] = l_q_mvar*l_scaling\n",
    "        \n",
    "        try:            \n",
    "            pp.runpp(network)\n",
    "            \n",
    "            # Enable FACTS devices if they should be\n",
    "            network.switch.closed[0] = shunt \n",
    "            if sc == True:\n",
    "                network.switch.closed[1] = False\n",
    "            else: \n",
    "                network.switch.closed[1] = True\n",
    "            \n",
    "            # Shunt compensation\n",
    "            v_ref_pu = 1\n",
    "            q_comp = Shunt_q_comp(network, v_ref_pu, bus_index, q_old)\n",
    "            network.shunt.q_mvar =  q_comp\n",
    "            #print(network.shunt.q_mvar)\n",
    "\n",
    "            # Series compensation\n",
    "            i_ref = 41.12944816652619#45.12148693231915 #Should be changed every X time steps to emulate \n",
    "                                      #change by system operator when implemented in RL.\n",
    "            k_x_comp_pu = K_x_comp_pu(network, i_ref, line_ind, k_old)\n",
    "            network.impedance.loc[0, ['xft_pu','xtf_pu']] = x_line_pu * k_x_comp_pu\n",
    "            #print(k_x_comp_pu)\n",
    "        \n",
    "            pp.runpp(network)\n",
    "            \n",
    "            if len([x for x in network.res_line.loading_percent if x >line_load_limit])>0:\n",
    "                networkFailure=True;\n",
    "                print('Nosecurve stop: line load limit reached')\n",
    "            if not networkFailure:\n",
    "                v_res = np.append(v_res, network.res_bus.vm_pu[bus_index])    \n",
    "                l_arr = np.append(l_arr, l_scaling)\n",
    "                q_old = q_comp #update for next iter\n",
    "                k_old = k_x_comp_pu \n",
    "        except:\n",
    "            networkFailure=True\n",
    "            print('Nosecurve stop: runpp diverge')\n",
    "        \n",
    "        # Reset FACTS devices to get proper transition next time step.\n",
    "        network.switch.closed[0] = False \n",
    "        network.switch.closed[1] = True\n",
    "\n",
    "    plt.plot(l_arr, v_res, figure=fig)\n",
    "    plt.ylabel('Bus Voltage [pu]')\n",
    "    plt.xlabel('Active power [pu]')\n",
    "    plt.grid(True)\n",
    "    \n",
    "    return [fig, v_res, l_arr]"
   ]
  },
  {
   "cell_type": "code",
   "execution_count": 12,
   "metadata": {},
   "outputs": [],
   "source": [
    "##Function to merge figures into 1\n",
    "def MergeFig(v_res1, l_arr1, label1, v_res2, l_arr2, label2, v_res3, l_arr3, label3):\n",
    "    fig = plt.figure()\n",
    "    plt.plot(l_arr1, v_res1, figure=fig, label=label1)\n",
    "    plt.plot(l_arr2, v_res2, figure=fig, label=label2)\n",
    "    plt.plot(l_arr3, v_res3, figure=fig, label=label3)\n",
    "    plt.ylabel('Bus Voltage [pu]')\n",
    "    plt.xlabel('Active power load at bus [scaling relative to nominal IEEE]')\n",
    "    plt.grid(True)\n",
    "    plt.legend()\n",
    "    return fig    "
   ]
  },
  {
   "cell_type": "code",
   "execution_count": null,
   "metadata": {},
   "outputs": [],
   "source": []
  },
  {
   "cell_type": "code",
   "execution_count": 13,
   "metadata": {},
   "outputs": [
    {
     "name": "stdout",
     "output_type": "stream",
     "text": [
      "40.09638004916377\n"
     ]
    }
   ],
   "source": [
    "#SETTINGS\n",
    "pp.runpp(net_2b)\n",
    "lp_ref = LP_ref(net_2b,0)# P_ref(Net_copy_noFACTS(net_2b), 0)\n",
    "print(lp_ref)"
   ]
  },
  {
   "cell_type": "code",
   "execution_count": 14,
   "metadata": {},
   "outputs": [],
   "source": [
    "net_2b.switch.closed[0] = True\n",
    "x_line_pu = X_pu(net_2b, 1)\n",
    "q_old = 0\n",
    "bus_index = 1\n",
    "v_ref_pu = 1\n",
    "q_comp = Shunt_q_comp(net_2b, v_ref_pu, bus_index, q_old)\n",
    "net_2b.shunt.q_mvar = q_comp\n",
    "pp.runpp(net_2b)"
   ]
  },
  {
   "cell_type": "code",
   "execution_count": 15,
   "metadata": {},
   "outputs": [
    {
     "data": {
      "text/html": [
       "<div>\n",
       "<style scoped>\n",
       "    .dataframe tbody tr th:only-of-type {\n",
       "        vertical-align: middle;\n",
       "    }\n",
       "\n",
       "    .dataframe tbody tr th {\n",
       "        vertical-align: top;\n",
       "    }\n",
       "\n",
       "    .dataframe thead th {\n",
       "        text-align: right;\n",
       "    }\n",
       "</style>\n",
       "<table border=\"1\" class=\"dataframe\">\n",
       "  <thead>\n",
       "    <tr style=\"text-align: right;\">\n",
       "      <th></th>\n",
       "      <th>p_mw</th>\n",
       "      <th>q_mvar</th>\n",
       "      <th>vm_pu</th>\n",
       "    </tr>\n",
       "  </thead>\n",
       "  <tbody>\n",
       "    <tr>\n",
       "      <td>0</td>\n",
       "      <td>0.0</td>\n",
       "      <td>-38.886821</td>\n",
       "      <td>1.014932</td>\n",
       "    </tr>\n",
       "  </tbody>\n",
       "</table>\n",
       "</div>"
      ],
      "text/plain": [
       "   p_mw     q_mvar     vm_pu\n",
       "0   0.0 -38.886821  1.014932"
      ]
     },
     "execution_count": 15,
     "metadata": {},
     "output_type": "execute_result"
    }
   ],
   "source": [
    "net_2b.res_shunt"
   ]
  },
  {
   "cell_type": "code",
   "execution_count": 16,
   "metadata": {},
   "outputs": [
    {
     "data": {
      "text/html": [
       "<div>\n",
       "<style scoped>\n",
       "    .dataframe tbody tr th:only-of-type {\n",
       "        vertical-align: middle;\n",
       "    }\n",
       "\n",
       "    .dataframe tbody tr th {\n",
       "        vertical-align: top;\n",
       "    }\n",
       "\n",
       "    .dataframe thead th {\n",
       "        text-align: right;\n",
       "    }\n",
       "</style>\n",
       "<table border=\"1\" class=\"dataframe\">\n",
       "  <thead>\n",
       "    <tr style=\"text-align: right;\">\n",
       "      <th></th>\n",
       "      <th>vm_pu</th>\n",
       "      <th>va_degree</th>\n",
       "      <th>p_mw</th>\n",
       "      <th>q_mvar</th>\n",
       "    </tr>\n",
       "  </thead>\n",
       "  <tbody>\n",
       "    <tr>\n",
       "      <td>0</td>\n",
       "      <td>1.000000</td>\n",
       "      <td>0.000000</td>\n",
       "      <td>-171.833532</td>\n",
       "      <td>-60.908073</td>\n",
       "    </tr>\n",
       "    <tr>\n",
       "      <td>1</td>\n",
       "      <td>0.973165</td>\n",
       "      <td>-2.574409</td>\n",
       "      <td>170.000000</td>\n",
       "      <td>105.350000</td>\n",
       "    </tr>\n",
       "    <tr>\n",
       "      <td>2</td>\n",
       "      <td>1.014932</td>\n",
       "      <td>-2.629459</td>\n",
       "      <td>0.000000</td>\n",
       "      <td>-38.886821</td>\n",
       "    </tr>\n",
       "    <tr>\n",
       "      <td>3</td>\n",
       "      <td>0.986971</td>\n",
       "      <td>-1.275866</td>\n",
       "      <td>0.000000</td>\n",
       "      <td>0.000000</td>\n",
       "    </tr>\n",
       "    <tr>\n",
       "      <td>4</td>\n",
       "      <td>0.986971</td>\n",
       "      <td>-1.275866</td>\n",
       "      <td>0.000000</td>\n",
       "      <td>0.000000</td>\n",
       "    </tr>\n",
       "  </tbody>\n",
       "</table>\n",
       "</div>"
      ],
      "text/plain": [
       "      vm_pu  va_degree        p_mw      q_mvar\n",
       "0  1.000000   0.000000 -171.833532  -60.908073\n",
       "1  0.973165  -2.574409  170.000000  105.350000\n",
       "2  1.014932  -2.629459    0.000000  -38.886821\n",
       "3  0.986971  -1.275866    0.000000    0.000000\n",
       "4  0.986971  -1.275866    0.000000    0.000000"
      ]
     },
     "execution_count": 16,
     "metadata": {},
     "output_type": "execute_result"
    }
   ],
   "source": [
    "net_2b.res_bus"
   ]
  },
  {
   "cell_type": "code",
   "execution_count": 17,
   "metadata": {
    "scrolled": true
   },
   "outputs": [
    {
     "data": {
      "text/plain": [
       "0    40.882344\n",
       "1    33.800907\n",
       "2    34.438744\n",
       "Name: loading_percent, dtype: float64"
      ]
     },
     "execution_count": 17,
     "metadata": {},
     "output_type": "execute_result"
    }
   ],
   "source": [
    "net_2b.res_line.loading_percent"
   ]
  },
  {
   "cell_type": "code",
   "execution_count": 18,
   "metadata": {},
   "outputs": [
    {
     "data": {
      "text/html": [
       "<div>\n",
       "<style scoped>\n",
       "    .dataframe tbody tr th:only-of-type {\n",
       "        vertical-align: middle;\n",
       "    }\n",
       "\n",
       "    .dataframe tbody tr th {\n",
       "        vertical-align: top;\n",
       "    }\n",
       "\n",
       "    .dataframe thead th {\n",
       "        text-align: right;\n",
       "    }\n",
       "</style>\n",
       "<table border=\"1\" class=\"dataframe\">\n",
       "  <thead>\n",
       "    <tr style=\"text-align: right;\">\n",
       "      <th></th>\n",
       "      <th>p_mw</th>\n",
       "      <th>q_mvar</th>\n",
       "      <th>vm_pu</th>\n",
       "    </tr>\n",
       "  </thead>\n",
       "  <tbody>\n",
       "    <tr>\n",
       "      <td>0</td>\n",
       "      <td>0.0</td>\n",
       "      <td>-38.886821</td>\n",
       "      <td>1.014932</td>\n",
       "    </tr>\n",
       "  </tbody>\n",
       "</table>\n",
       "</div>"
      ],
      "text/plain": [
       "   p_mw     q_mvar     vm_pu\n",
       "0   0.0 -38.886821  1.014932"
      ]
     },
     "execution_count": 18,
     "metadata": {},
     "output_type": "execute_result"
    }
   ],
   "source": [
    "net_2b.res_shunt"
   ]
  },
  {
   "cell_type": "code",
   "execution_count": 19,
   "metadata": {},
   "outputs": [
    {
     "ename": "NameError",
     "evalue": "name 'i_ref' is not defined",
     "output_type": "error",
     "traceback": [
      "\u001b[1;31m---------------------------------------------------------------------------\u001b[0m",
      "\u001b[1;31mNameError\u001b[0m                                 Traceback (most recent call last)",
      "\u001b[1;32m<ipython-input-19-57f0b0b4e226>\u001b[0m in \u001b[0;36m<module>\u001b[1;34m\u001b[0m\n\u001b[1;32m----> 1\u001b[1;33m \u001b[0mk_x_comp_pu\u001b[0m \u001b[1;33m=\u001b[0m \u001b[0mK_x_comp_pu\u001b[0m\u001b[1;33m(\u001b[0m\u001b[0mnet_2b\u001b[0m\u001b[1;33m,\u001b[0m \u001b[0mi_ref\u001b[0m\u001b[1;33m,\u001b[0m \u001b[1;36m1\u001b[0m\u001b[1;33m,\u001b[0m \u001b[1;36m0\u001b[0m\u001b[1;33m)\u001b[0m\u001b[1;33m\u001b[0m\u001b[1;33m\u001b[0m\u001b[0m\n\u001b[0m\u001b[0;32m      2\u001b[0m \u001b[0mk_x_comp_pu\u001b[0m\u001b[1;33m\u001b[0m\u001b[1;33m\u001b[0m\u001b[0m\n",
      "\u001b[1;31mNameError\u001b[0m: name 'i_ref' is not defined"
     ]
    }
   ],
   "source": [
    "k_x_comp_pu = K_x_comp_pu(net_2b, i_ref, 1, 0)\n",
    "k_x_comp_pu"
   ]
  },
  {
   "cell_type": "code",
   "execution_count": null,
   "metadata": {},
   "outputs": [],
   "source": [
    "l_ind = 0\n",
    "l_scaling = 2.22\n",
    "l_p_mw = net_2b.load.p_mw[l_ind]\n",
    "l_q_mvar = net_2b.load.q_mvar[l_ind]\n",
    "net_2b.load.p_mw[l_ind] = l_p_mw*l_scaling\n",
    "net_2b.load.q_mvar[l_ind] = l_q_mvar*l_scaling\n",
    "pp.runpp(net_2b)"
   ]
  },
  {
   "cell_type": "code",
   "execution_count": null,
   "metadata": {},
   "outputs": [],
   "source": [
    "net_2b.res_bus"
   ]
  },
  {
   "cell_type": "code",
   "execution_count": null,
   "metadata": {},
   "outputs": [],
   "source": [
    "net_2b.res_line"
   ]
  },
  {
   "cell_type": "code",
   "execution_count": null,
   "metadata": {},
   "outputs": [],
   "source": [
    "k_x_comp_pu = K_x_comp_pu(net_2b, i_ref, 1, 0)\n",
    "k_x_comp_pu"
   ]
  },
  {
   "cell_type": "code",
   "execution_count": null,
   "metadata": {
    "scrolled": true
   },
   "outputs": [],
   "source": [
    "net_2b.switch.closed[1] = False\n",
    "net_2b.impedance.loc[0, ['xft_pu','xtf_pu']] = x_line_pu * k_x_comp_pu\n",
    "pp.runpp(net_2b)\n",
    "net_2b.res_bus"
   ]
  },
  {
   "cell_type": "code",
   "execution_count": null,
   "metadata": {},
   "outputs": [],
   "source": [
    "net_2b.res_line"
   ]
  },
  {
   "cell_type": "code",
   "execution_count": null,
   "metadata": {},
   "outputs": [],
   "source": [
    "l_ind = 0\n",
    "l_scaling = 1/l_scaling #Scale back to nominal before nose curves\n",
    "l_p_mw = net_2b.load.p_mw[l_ind]\n",
    "l_q_mvar = net_2b.load.q_mvar[l_ind]\n",
    "net_2b.load.p_mw[l_ind] = l_p_mw*l_scaling\n",
    "net_2b.load.q_mvar[l_ind] = l_q_mvar*l_scaling\n",
    "\n",
    "\n",
    "l_load_limit = 100\n",
    "NoseCurve1 = NoseCurve(1, net_2b, shunt=False, sc=False, line_load_limit=l_load_limit)\n",
    "print(NoseCurve1[2][len(NoseCurve1[2])-1])\n",
    "NoseCurve2 = NoseCurve(1, net_2b, shunt=True, sc=False, line_load_limit=l_load_limit)\n",
    "print(NoseCurve2[2][len(NoseCurve2[2])-1])\n",
    "NoseCurve3 = NoseCurve(1, net_2b, shunt=True, sc=True, line_load_limit=l_load_limit)\n",
    "print(NoseCurve3[2][len(NoseCurve3[2])-1])\n",
    "figMerge1 = MergeFig(NoseCurve1[1], NoseCurve1[2], 'No FACTS', \n",
    "                     NoseCurve2[1], NoseCurve2[2], 'Shunt',\n",
    "                     NoseCurve3[1], NoseCurve3[2], 'Shunt+SC')\n"
   ]
  },
  {
   "cell_type": "code",
   "execution_count": null,
   "metadata": {},
   "outputs": [],
   "source": [
    "net_2b.trafo"
   ]
  },
  {
   "cell_type": "code",
   "execution_count": null,
   "metadata": {},
   "outputs": [],
   "source": [
    "45.12148693231915/.37430556"
   ]
  },
  {
   "cell_type": "code",
   "execution_count": null,
   "metadata": {},
   "outputs": [],
   "source": [
    "pp.runpp(net_2b)\n",
    "print(net_2b.trafo.tap_pos)\n",
    "print(net_2b.res_bus)\n",
    "trafo_control = ct.DiscreteTapControl(net=net_2b, tid=0,vm_lower_pu=0.95, vm_upper_pu=1.05)\n",
    "pp.runpp(net_2b, run_control=True)\n",
    "print(net_2b.trafo.tap_pos)\n",
    "print(net_2b.res_bus)"
   ]
  },
  {
   "cell_type": "code",
   "execution_count": null,
   "metadata": {},
   "outputs": [],
   "source": [
    "net_2b.res_line"
   ]
  },
  {
   "cell_type": "code",
   "execution_count": null,
   "metadata": {},
   "outputs": [],
   "source": [
    " # Shunt compensation\n",
    "v_ref_pu = 0.8\n",
    "q_comp = Shunt_q_comp(net_2b, v_ref_pu, bus_index, 0)\n",
    "net_2b.shunt.q_mvar =  q_comp\n",
    "#print(network.shunt.q_mvar)\n",
    "\n",
    "# Series compensation\n",
    "i_ref = 15#41.12944816652619#45.12148693231915 #Should be changed every X time steps to emulate \n",
    "                          #change by system operator when implemented in RL.\n",
    "k_x_comp_pu = K_x_comp_pu(net_2b, i_ref, 1, 0)\n",
    "net_2b.impedance.loc[0, ['xft_pu','xtf_pu']] = x_line_pu * k_x_comp_pu\n",
    "#print(k_x_comp_pu)\n",
    "\n",
    "pp.runpp(net_2b)\n",
    "print(k_x_comp_pu)\n",
    "print(q_comp)\n",
    "print(net_2b.res_bus.vm_pu)\n",
    "print(net_2b.res_line.loading_percent)"
   ]
  },
  {
   "cell_type": "code",
   "execution_count": null,
   "metadata": {},
   "outputs": [],
   "source": [
    "v_bus_pu = 0.9531755470079166\n",
    "v_ref_pu =1.2\n",
    "loading_perc_meas = 45.48088581072245\n",
    "loading_perc_ref =135\n",
    "\n",
    "c = 5 #Coefficient for transnition tuned to hit equal load sharing at nominal IEEE\n",
    "k_x_comp_max_ind = 0.4\n",
    "k = 10 #Coefficient for transition,\n",
    "q_rated = 100 #Mvar\n",
    "\n",
    "k_delta = (c * k_x_comp_max_ind * (loading_perc_meas - loading_perc_ref) / 100)\n",
    "q_delta = k*q_rated*(v_bus_pu-v_ref_pu)\n",
    "print(k_delta)\n",
    "print(q_delta)"
   ]
  },
  {
   "cell_type": "code",
   "execution_count": null,
   "metadata": {},
   "outputs": [],
   "source": [
    "import numpy as np\n",
    "V=[0.8, 0.85, 1.0, 0.9, 1.1]\n",
    "L=[1.2, 1.15, 1.0, 1.1, 0.9 ]\n",
    "print(V)\n",
    "print(L)\n",
    "Vsorted = [x for _, x in sorted(zip(L,V))]\n",
    "print(Vsorted)\n",
    "Lsorted = sorted(L)\n",
    "print(Lsorted)"
   ]
  },
  {
   "cell_type": "code",
   "execution_count": null,
   "metadata": {},
   "outputs": [],
   "source": [
    "Ltrim = [x for x in L if x <= 1]\n",
    "print(Ltrim)"
   ]
  },
  {
   "cell_type": "code",
   "execution_count": null,
   "metadata": {},
   "outputs": [],
   "source": [
    "V[0:2]"
   ]
  },
  {
   "cell_type": "code",
   "execution_count": 1,
   "metadata": {},
   "outputs": [],
   "source": [
    "A = B = C= 0"
   ]
  },
  {
   "cell_type": "code",
   "execution_count": 6,
   "metadata": {},
   "outputs": [
    {
     "name": "stdout",
     "output_type": "stream",
     "text": [
      "2\n",
      "0\n"
     ]
    }
   ],
   "source": []
  },
  {
   "cell_type": "code",
   "execution_count": null,
   "metadata": {},
   "outputs": [],
   "source": []
  }
 ],
 "metadata": {
  "kernelspec": {
   "display_name": "Python 3",
   "language": "python",
   "name": "python3"
  },
  "language_info": {
   "codemirror_mode": {
    "name": "ipython",
    "version": 3
   },
   "file_extension": ".py",
   "mimetype": "text/x-python",
   "name": "python",
   "nbconvert_exporter": "python",
   "pygments_lexer": "ipython3",
   "version": "3.7.4"
  }
 },
 "nbformat": 4,
 "nbformat_minor": 2
}
