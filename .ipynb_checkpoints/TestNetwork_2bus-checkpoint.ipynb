{
 "cells": [
  {
   "cell_type": "code",
   "execution_count": 1,
   "metadata": {},
   "outputs": [],
   "source": [
    "import pandapower as pp\n",
    "import pandapower.networks as nw\n",
    "import pandapower.plotting as plot\n",
    "import matplotlib.pyplot as plt\n",
    "import math\n",
    "import numpy as np\n",
    "import copy\n",
    "import pandapower.shortcircuit as sc\n",
    "import pandapower.control as ct\n",
    "import statistics as stat\n",
    "#from matplotlib.transforms import BlendedGenericTransform\n",
    "#from pandapower.plotting import simple_plot, simple_plotly, pf_res_plotly\n",
    "\n",
    "# Predefined network of IEEE 4gs bus system \n",
    "net_temp = pp.networks.case4gs()\n",
    "#plot.simple_plot(net)"
   ]
  },
  {
   "cell_type": "code",
   "execution_count": 2,
   "metadata": {},
   "outputs": [],
   "source": [
    "#COPY PARAMETERS FROM TEMP NETWORK TO USE IN 2 BUS RADIAL SYSTEM.\n",
    "#BUSES\n",
    "b0_in_service = net_temp.bus.in_service[0]\n",
    "b0_max_vm_pu = net_temp.bus.max_vm_pu[0]\n",
    "b0_min_vm_pu = net_temp.bus.min_vm_pu[0]\n",
    "b0_name = net_temp.bus.name[0]\n",
    "b0_type = net_temp.bus.type[0]\n",
    "b0_vn_kv = net_temp.bus.vn_kv[0]\n",
    "b0_zone = net_temp.bus.zone[0]\n",
    "b0_geodata = (3,2)\n",
    "\n",
    "b1_in_service = net_temp.bus.in_service[1]\n",
    "b1_max_vm_pu = net_temp.bus.max_vm_pu[1]\n",
    "b1_min_vm_pu = net_temp.bus.min_vm_pu[1]\n",
    "b1_name = net_temp.bus.name[1]\n",
    "b1_type = net_temp.bus.type[1]\n",
    "b1_vn_kv = net_temp.bus.vn_kv[1]\n",
    "b1_zone = net_temp.bus.zone[1]\n",
    "b1_geodata = (4,2)\n",
    "\n",
    "#BUS ELEMENTS\n",
    "load_bus = net_temp.load.bus[1]\n",
    "load_in_service = net_temp.load.in_service[1]\n",
    "load_p_mw = net_temp.load.p_mw[1]\n",
    "load_q_mvar = net_temp.load.q_mvar[1]\n",
    "load_scaling = net_temp.load.scaling[1]\n",
    "\n",
    "extGrid_bus = net_temp.ext_grid.bus[0]\n",
    "extGrid_in_service = net_temp.ext_grid.in_service[0]\n",
    "extGrid_va_degree = net_temp.ext_grid.va_degree[0]\n",
    "extGrid_vm_pu = net_temp.ext_grid.vm_pu[0]\n",
    "extGrid_max_p_mw = net_temp.ext_grid.max_p_mw[0]\n",
    "extGrid_min_p_mw = net_temp.ext_grid.min_p_mw[0]\n",
    "extGrid_max_q_mvar = net_temp.ext_grid.max_q_mvar[0]\n",
    "extGrid_min_q_mvar = net_temp.ext_grid.min_q_mvar[0]\n",
    "\n",
    "#LINES\n",
    "line0_scaling = 1\n",
    "line0_c_nf_per_km = net_temp.line.c_nf_per_km[0]\n",
    "line0_df = net_temp.line.df[0]\n",
    "line0_from_bus = net_temp.line.from_bus[0]\n",
    "line0_g_us_per_km = net_temp.line.g_us_per_km[0]\n",
    "line0_in_service = net_temp.line.in_service[0]\n",
    "line0_length_km = net_temp.line.length_km[0]\n",
    "line0_max_i_ka = net_temp.line.max_i_ka[0]\n",
    "line0_max_loading_percent = net_temp.line.max_loading_percent[0]\n",
    "line0_parallel = net_temp.line.parallel[0]\n",
    "line0_r_ohm_per_km = net_temp.line.r_ohm_per_km[0] * line0_scaling\n",
    "line0_to_bus = net_temp.line.to_bus[0]\n",
    "line0_type = net_temp.line.type[0]\n",
    "line0_x_ohm_per_km = net_temp.line.x_ohm_per_km[0] * line0_scaling\n",
    "\n",
    "\n",
    "line1_scaling = 1.2\n",
    "line1_c_nf_per_km = line0_c_nf_per_km\n",
    "line1_df = line0_df\n",
    "line1_from_bus = line0_from_bus \n",
    "line1_g_us_per_km = line0_g_us_per_km\n",
    "line1_in_service = line0_in_service\n",
    "line1_length_km = line0_length_km\n",
    "line1_max_i_ka = line0_max_i_ka\n",
    "line1_max_loading_percent = line0_max_loading_percent\n",
    "line1_parallel = line0_parallel \n",
    "line1_r_ohm_per_km = line0_r_ohm_per_km\n",
    "line1_to_bus = line0_to_bus\n",
    "line1_type = line0_type\n",
    "line1_x_ohm_per_km = line0_x_ohm_per_km * line1_scaling"
   ]
  },
  {
   "cell_type": "code",
   "execution_count": 3,
   "metadata": {},
   "outputs": [],
   "source": [
    "#CREATE 2 BUS SYSTEM\n",
    "net_2b = pp.create_empty_network()\n",
    "\n",
    "#Create buses\n",
    "b0 = pp.create_bus(net_2b, in_service=b0_in_service, max_vm_pu=b0_max_vm_pu, min_vm_pu=b0_min_vm_pu, \n",
    "                   name=b0_name, type=b0_type, vn_kv=b0_vn_kv, zone= b0_zone, geodata=b0_geodata)\n",
    "\n",
    "b1 = pp.create_bus(net_2b, in_service=b1_in_service, max_vm_pu=b1_max_vm_pu, min_vm_pu=b1_min_vm_pu, \n",
    "                   name=b1_name, type=b1_type, vn_kv=b1_vn_kv, zone= b1_zone, geodata=b1_geodata)\n",
    "\n",
    "\n",
    "\n",
    "#Create bus elements\n",
    "load = pp.create_load(net_2b, bus=load_bus, in_service=load_in_service, \n",
    "                      p_mw=load_p_mw, q_mvar=load_q_mvar, scaling=load_scaling)\n",
    "\n",
    "extGrid = pp.create_ext_grid(net_2b, bus=extGrid_bus, in_service=extGrid_in_service, va_degree=extGrid_va_degree,\n",
    "                             vm_pu=extGrid_vm_pu, max_p_mw=extGrid_max_p_mw, min_p_mw=extGrid_min_p_mw,\n",
    "                             max_q_mvar=extGrid_max_q_mvar, min_q_mvar=extGrid_min_q_mvar)\n",
    "\n",
    "# Create lines\n",
    "l0 = pp.create_line_from_parameters(net_2b, c_nf_per_km=line0_c_nf_per_km, df=line0_df, from_bus=line0_from_bus,\n",
    "                   g_us_per_km=line0_g_us_per_km, in_service=line0_in_service, length_km=line0_length_km,\n",
    "                   max_i_ka=line0_max_i_ka, max_loading_percent=line0_max_loading_percent,\n",
    "                   parallel=line0_parallel, r_ohm_per_km=line0_r_ohm_per_km, to_bus=line0_to_bus, \n",
    "                   type=line0_type, x_ohm_per_km=line0_x_ohm_per_km)\n",
    "\n",
    "l1 = pp.create_line_from_parameters(net_2b, c_nf_per_km=line1_c_nf_per_km, df=line1_df, from_bus=line1_from_bus,\n",
    "                   g_us_per_km=line1_g_us_per_km, in_service=line1_in_service, length_km=line1_length_km,\n",
    "                   max_i_ka=line1_max_i_ka, max_loading_percent=line1_max_loading_percent,\n",
    "                   parallel=line1_parallel, r_ohm_per_km=line1_r_ohm_per_km, to_bus=line1_to_bus, \n",
    "                   type=line1_type, x_ohm_per_km=line1_x_ohm_per_km)"
   ]
  },
  {
   "cell_type": "code",
   "execution_count": 4,
   "metadata": {},
   "outputs": [],
   "source": [
    "####Shunt FACTS device (bus 1)\n",
    "#MV bus\n",
    "bus_SVC = pp.create_bus(net_2b, name='MV SVCtrafo bus', vn_kv=69, type='n', geodata=(4.04,1.98), zone=2, max_vm_pu=1.1,\n",
    "                        min_vm_pu=0.9)\n",
    "#Trafo\n",
    "trafoSVC = pp.create_transformer_from_parameters(net_2b, hv_bus=1, lv_bus=2, in_service=True, \n",
    "                                                name='trafoSVC', sn_mva=110, vn_hv_kv=230 , vn_lv_kv=69, \n",
    "                                                vk_percent=12, vkr_percent=0.26, pfe_kw=55, i0_percent=0.06,\n",
    "                                                shift_degree=0, tap_side='hv', tap_neutral=0, tap_min=-9, tap_max=9,\n",
    "                                                tap_step_percent=1.5, tap_step_degree=0, tap_phase_shifter=False) \n",
    "#Breaker between grid HV bus and trafo HV bus to connect buses\n",
    "sw_SVC = pp.create_switch(net_2b, bus=1, element=0, et='t', type='CB', closed=False)\n",
    "#Shunt devices connected with MV bus\n",
    "shuntDev = pp.create_shunt(net_2b, bus_SVC, 2, in_service=True, name='Shunt Device', step = 1)"
   ]
  },
  {
   "cell_type": "code",
   "execution_count": 5,
   "metadata": {},
   "outputs": [
    {
     "data": {
      "image/png": "[encoded data removed]",
      "text/plain": [
       "<Figure size 720x576 with 1 Axes>"
      ]
     },
     "metadata": {},
     "output_type": "display_data"
    },
    {
     "data": {
      "text/plain": [
       "<matplotlib.axes._subplots.AxesSubplot at 0x1ec10be0a48>"
      ]
     },
     "execution_count": 5,
     "metadata": {},
     "output_type": "execute_result"
    }
   ],
   "source": [
    "####Series device (at line 1, in middle between bus 0 and 1)\n",
    "#Add intermediate buses for bypass and series compensation impedance\n",
    "bus_SC1 = pp.create_bus(net_2b, name='SC bus 1', vn_kv=230, type='n', geodata=(3.48,2.05), \n",
    "                        zone=2, max_vm_pu=1.1, min_vm_pu=0.9)\n",
    "bus_SC2 = pp.create_bus(net_2b, name='SC bus 2', vn_kv=230, type='n', geodata=(3.52,2.05), \n",
    "                        zone=2, max_vm_pu=1.1, min_vm_pu=0.9)\n",
    "sw_SC_bypass = pp.create_switch(net_2b, bus=3, element=4, et='b', type='CB', closed=True)\n",
    "imp_SC = pp.create_impedance(net_2b, from_bus=3, to_bus=4, rft_pu=0.0000001272, xft_pu=-0.0636,\n",
    "                             rtf_pu=0.0000001272, xtf_pu=-0.0636, sn_mva=250, in_service=True) #Just some default values\n",
    "#Adjust orginal Line 3 to connect to new buses instead.\n",
    "net_2b.line.at[1, ['length_km', 'to_bus', 'name']] = [0.5, 3, 'line1_SC']                        \n",
    "lineSC2 = pp.create_line_from_parameters(net_2b, name='line2_SC', c_nf_per_km=net_2b.line.at[1,'c_nf_per_km'],\n",
    "                       df=net_2b.line.at[1, 'df'], from_bus=4, g_us_per_km=net_2b.line.at[1, 'g_us_per_km'],\n",
    "                       in_service=net_2b.line.at[1, 'in_service'], length_km=0.5, max_i_ka=net_2b.line.at[1, 'max_i_ka'],\n",
    "                       max_loading_percent=net_2b.line.at[1, 'max_loading_percent'], parallel=net_2b.line.at[1, 'parallel'],\n",
    "                       r_ohm_per_km=net_2b.line.at[1, 'r_ohm_per_km'], std_type=net_2b.line.at[1, 'std_type'], to_bus=1, \n",
    "                       type=net_2b.line.at[1, 'type'], x_ohm_per_km=net_2b.line.at[1, 'x_ohm_per_km'])\n",
    "plot.simple_plot(net_2b)"
   ]
  },
  {
   "cell_type": "code",
   "execution_count": 6,
   "metadata": {},
   "outputs": [],
   "source": [
    "##Function to calculate line reactance in pu\n",
    "def X_pu(net, line_index):  \n",
    "    s_base = 100e6\n",
    "    v_base = 230e3\n",
    "    x_base = pow(v_base,2) / s_base\n",
    "    x_line_ohm = net_2b.line.x_ohm_per_km[line_index]\n",
    "    x_line_pu = x_line_ohm / x_base # Can take one since this line is divivded into \n",
    "                                                  # 2 identical lines with length 0.5 km\n",
    "    return x_line_pu"
   ]
  },
  {
   "cell_type": "code",
   "execution_count": 7,
   "metadata": {},
   "outputs": [],
   "source": [
    "##Function to calculate loadingt percentage reference for the series compensation\n",
    "def LP_ref(net, line_index):\n",
    "    lp_ref = stat.mean(net.res_line.loading_percent)\n",
    "    return lp_ref  "
   ]
  },
  {
   "cell_type": "code",
   "execution_count": 8,
   "metadata": {},
   "outputs": [],
   "source": [
    "##Function to return a reference network with FACTS devices disabled with results aquired after pp.runpp()\n",
    "def Net_copy_noFACTS(net):\n",
    "    network = copy.deepcopy(net) #To not changing anything in actual network\n",
    "    network.switch.closed[0] = False \n",
    "    network.switch.closed[1] = True\n",
    "    pp.runpp(network)\n",
    "    return network"
   ]
  },
  {
   "cell_type": "code",
   "execution_count": 9,
   "metadata": {},
   "outputs": [],
   "source": [
    "##Function for transition from reference power to reactance of \"TCSC\"\n",
    "def K_x_comp_pu(net, loading_perc_ref, line_index, k_old): \n",
    "    #line_from_bus = net.line.from_bus[line_index]\n",
    "    #line_to_bus = net.line.to_bus[line_index]\n",
    "    \n",
    "    #x_line_pu = X_pu(net, line_index)\n",
    "\n",
    "    #k_x_comp_max_ind = 0.4 #maximum inductive reactance compensation of the line\n",
    "    #k_x_comp_max_cap = -0.4 #maximum capacitive reactance compensation of the line\n",
    "    #v_s_pu = net.res_bus.vm_pu[line_from_bus]\n",
    "    #v_r_pu = net.res_bus.vm_pu[line_to_bus]\n",
    "    #delta_deg = net.res_bus.va_degree[line_from_bus] - net.res_bus.va_degree[line_to_bus]\n",
    "    #k_delta = ((v_s_pu * v_r_pu * math.sin(math.radians(delta_deg))) / (p_ref_pu* x_line_pu)) - 1 - k_old\n",
    "    #k_x_comp = k_delta + k_old\n",
    "    #print(k_x_comp)\n",
    "    \n",
    "    ##NEW VERSION TEST:\n",
    "    c = 5 #Coefficient for transnition tuned to hit equal load sharing at nominal IEEE\n",
    "    k_x_comp_max_ind = 0.4\n",
    "    k_x_comp_max_cap = -k_x_comp_max_ind\n",
    "    loading_perc_meas = net.res_line.loading_percent[line_index]\n",
    "    k_delta = (c * k_x_comp_max_ind * (loading_perc_meas - loading_perc_ref) / 100) - k_old #100 To get percentage in pu\n",
    "    k_x_comp = k_delta + k_old\n",
    "    \n",
    "    #Bypassing series device if impedance close to 0\n",
    "    if abs(k_x_comp) < 0.0001: #Helping with convergence\n",
    "        net.switch.closed[1] = True  #ACTUAL network, not a copy\n",
    "    \n",
    "    if k_x_comp > k_x_comp_max_ind:\n",
    "        k_x_comp = k_x_comp_max_ind\n",
    "    if k_x_comp < k_x_comp_max_cap:\n",
    "        k_x_comp = k_x_comp_max_cap\n",
    "    return k_x_comp"
   ]
  },
  {
   "cell_type": "code",
   "execution_count": 10,
   "metadata": {},
   "outputs": [],
   "source": [
    "##Function for transition from reference parameter to reactive power output of shunt device\n",
    "def Shunt_q_comp(net, v_ref_pu, bus_index, q_old):   \n",
    "    v_bus_pu = net.res_bus.vm_pu[bus_index]\n",
    "    k = 10 #Coefficient for transition,\n",
    "    q_rated = 100 #Mvar\n",
    "    q_min = -q_rated\n",
    "    q_max = q_rated\n",
    "    q_delta = k*q_rated*(v_bus_pu-v_ref_pu)-q_old #q_old might come in handy later with RL if able to take actions without \n",
    "                                                  #independent change in environment\n",
    "    q_comp = q_delta + q_old\n",
    "    \n",
    "    if q_comp > q_max:\n",
    "        q_comp = q_max\n",
    "    if q_comp < q_min:\n",
    "        q_comp = q_min\n",
    "    \n",
    "    #print(q_comp)\n",
    "    return q_comp"
   ]
  },
  {
   "cell_type": "code",
   "execution_count": 11,
   "metadata": {},
   "outputs": [],
   "source": [
    "##Function for nose curve\n",
    "def NoseCurve(bus_index, net, shunt, sc, line_load_limit):\n",
    "    network = Net_copy_noFACTS(net) #To not changing anything in actual network\n",
    "    fig = plt.figure()\n",
    "    \n",
    "    load_increment = 0.02\n",
    "    load_start = 0.1\n",
    "    load_prev = 0.1 - load_increment\n",
    "    l_arr = np.array([])\n",
    "    v_res = np.array([])\n",
    "    l_ind = 0\n",
    "    line_ind = 1\n",
    "    l_p_mw = network.load.p_mw[l_ind]\n",
    "    l_q_mvar = network.load.q_mvar[l_ind]\n",
    "    x_line_pu = X_pu(network, 1)\n",
    "    k_old = 0 #initialise as 0\n",
    "    q_old = 0\n",
    "    networkFailure = False\n",
    "        \n",
    "    while not networkFailure: \n",
    "        #Scaling\n",
    "        l_scaling = load_prev + load_increment\n",
    "        load_prev = l_scaling\n",
    "        network.load.p_mw[l_ind] = l_p_mw*l_scaling\n",
    "        network.load.q_mvar[l_ind] = l_q_mvar*l_scaling\n",
    "        \n",
    "        try:            \n",
    "            pp.runpp(network)\n",
    "            \n",
    "            # Enable FACTS devices if they should be\n",
    "            network.switch.closed[0] = shunt \n",
    "            if sc == True:\n",
    "                network.switch.closed[1] = False\n",
    "            else: \n",
    "                network.switch.closed[1] = True\n",
    "            \n",
    "            # Shunt compensation\n",
    "            v_ref_pu = 1\n",
    "            q_comp = Shunt_q_comp(network, v_ref_pu, bus_index, q_old)\n",
    "            network.shunt.q_mvar =  q_comp\n",
    "            #print(network.shunt.q_mvar)\n",
    "\n",
    "            # Series compensation\n",
    "            i_ref = 41.12944816652619#45.12148693231915 #Should be changed every X time steps to emulate \n",
    "                                      #change by system operator when implemented in RL.\n",
    "            k_x_comp_pu = K_x_comp_pu(network, i_ref, line_ind, k_old)\n",
    "            network.impedance.loc[0, ['xft_pu','xtf_pu']] = x_line_pu * k_x_comp_pu\n",
    "            #print(k_x_comp_pu)\n",
    "        \n",
    "            pp.runpp(network)\n",
    "            \n",
    "            if len([x for x in network.res_line.loading_percent if x >line_load_limit])>0:\n",
    "                networkFailure=True;\n",
    "                print('Nosecurve stop: line load limit reached')\n",
    "            if not networkFailure:\n",
    "                v_res = np.append(v_res, network.res_bus.vm_pu[bus_index])    \n",
    "                l_arr = np.append(l_arr, l_scaling)\n",
    "                q_old = q_comp #update for next iter\n",
    "                k_old = k_x_comp_pu \n",
    "        except:\n",
    "            networkFailure=True\n",
    "            print('Nosecurve stop: runpp diverge')\n",
    "        \n",
    "        # Reset FACTS devices to get proper transition next time step.\n",
    "        network.switch.closed[0] = False \n",
    "        network.switch.closed[1] = True\n",
    "\n",
    "    plt.plot(l_arr, v_res, figure=fig)\n",
    "    plt.ylabel('Bus Voltage [pu]')\n",
    "    plt.xlabel('Active power [pu]')\n",
    "    plt.grid(True)\n",
    "    \n",
    "    return [fig, v_res, l_arr]"
   ]
  },
  {
   "cell_type": "code",
   "execution_count": 12,
   "metadata": {},
   "outputs": [],
   "source": [
    "##Function to merge figures into 1\n",
    "def MergeFig(v_res1, l_arr1, label1, v_res2, l_arr2, label2, v_res3, l_arr3, label3):\n",
    "    fig = plt.figure()\n",
    "    plt.plot(l_arr1, v_res1, figure=fig, label=label1)\n",
    "    plt.plot(l_arr2, v_res2, figure=fig, label=label2)\n",
    "    plt.plot(l_arr3, v_res3, figure=fig, label=label3)\n",
    "    plt.ylabel('Bus Voltage [pu]')\n",
    "    plt.xlabel('Active power load at bus [scaling relative to nominal IEEE]')\n",
    "    plt.grid(True)\n",
    "    plt.legend()\n",
    "    return fig    "
   ]
  },
  {
   "cell_type": "code",
   "execution_count": null,
   "metadata": {},
   "outputs": [],
   "source": []
  },
  {
   "cell_type": "code",
   "execution_count": 13,
   "metadata": {},
   "outputs": [
    {
     "name": "stdout",
     "output_type": "stream",
     "text": [
      "40.09638004916377\n"
     ]
    }
   ],
   "source": [
    "#SETTINGS\n",
    "pp.runpp(net_2b)\n",
    "lp_ref = LP_ref(net_2b,0)# P_ref(Net_copy_noFACTS(net_2b), 0)\n",
    "print(lp_ref)"
   ]
  },
  {
   "cell_type": "code",
   "execution_count": 14,
   "metadata": {},
   "outputs": [],
   "source": [
    "net_2b.switch.closed[0] = True\n",
    "x_line_pu = X_pu(net_2b, 1)\n",
    "q_old = 0\n",
    "bus_index = 1\n",
    "v_ref_pu = 1\n",
    "q_comp = Shunt_q_comp(net_2b, v_ref_pu, bus_index, q_old)\n",
    "net_2b.shunt.q_mvar = q_comp\n",
    "pp.runpp(net_2b)"
   ]
  },
  {
   "cell_type": "code",
   "execution_count": 15,
   "metadata": {},
   "outputs": [
    {
     "data": {
      "text/html": [
       "<div>\n",
       "<style scoped>\n",
       "    .dataframe tbody tr th:only-of-type {\n",
       "        vertical-align: middle;\n",
       "    }\n",
       "\n",
       "    .dataframe tbody tr th {\n",
       "        vertical-align: top;\n",
       "    }\n",
       "\n",
       "    .dataframe thead th {\n",
       "        text-align: right;\n",
       "    }\n",
       "</style>\n",
       "<table border=\"1\" class=\"dataframe\">\n",
       "  <thead>\n",
       "    <tr style=\"text-align: right;\">\n",
       "      <th></th>\n",
       "      <th>p_mw</th>\n",
       "      <th>q_mvar</th>\n",
       "      <th>vm_pu</th>\n",
       "    </tr>\n",
       "  </thead>\n",
       "  <tbody>\n",
       "    <tr>\n",
       "      <td>0</td>\n",
       "      <td>0.0</td>\n",
       "      <td>-38.886821</td>\n",
       "      <td>1.014932</td>\n",
       "    </tr>\n",
       "  </tbody>\n",
       "</table>\n",
       "</div>"
      ],
      "text/plain": [
       "   p_mw     q_mvar     vm_pu\n",
       "0   0.0 -38.886821  1.014932"
      ]
     },
     "execution_count": 15,
     "metadata": {},
     "output_type": "execute_result"
    }
   ],
   "source": [
    "net_2b.res_shunt"
   ]
  },
  {
   "cell_type": "code",
   "execution_count": 16,
   "metadata": {},
   "outputs": [
    {
     "data": {
      "text/html": [
       "<div>\n",
       "<style scoped>\n",
       "    .dataframe tbody tr th:only-of-type {\n",
       "        vertical-align: middle;\n",
       "    }\n",
       "\n",
       "    .dataframe tbody tr th {\n",
       "        vertical-align: top;\n",
       "    }\n",
       "\n",
       "    .dataframe thead th {\n",
       "        text-align: right;\n",
       "    }\n",
       "</style>\n",
       "<table border=\"1\" class=\"dataframe\">\n",
       "  <thead>\n",
       "    <tr style=\"text-align: right;\">\n",
       "      <th></th>\n",
       "      <th>vm_pu</th>\n",
       "      <th>va_degree</th>\n",
       "      <th>p_mw</th>\n",
       "      <th>q_mvar</th>\n",
       "    </tr>\n",
       "  </thead>\n",
       "  <tbody>\n",
       "    <tr>\n",
       "      <td>0</td>\n",
       "      <td>1.000000</td>\n",
       "      <td>0.000000</td>\n",
       "      <td>-171.833532</td>\n",
       "      <td>-60.908073</td>\n",
       "    </tr>\n",
       "    <tr>\n",
       "      <td>1</td>\n",
       "      <td>0.973165</td>\n",
       "      <td>-2.574409</td>\n",
       "      <td>170.000000</td>\n",
       "      <td>105.350000</td>\n",
       "    </tr>\n",
       "    <tr>\n",
       "      <td>2</td>\n",
       "      <td>1.014932</td>\n",
       "      <td>-2.629459</td>\n",
       "      <td>0.000000</td>\n",
       "      <td>-38.886821</td>\n",
       "    </tr>\n",
       "    <tr>\n",
       "      <td>3</td>\n",
       "      <td>0.986971</td>\n",
       "      <td>-1.275866</td>\n",
       "      <td>0.000000</td>\n",
       "      <td>0.000000</td>\n",
       "    </tr>\n",
       "    <tr>\n",
       "      <td>4</td>\n",
       "      <td>0.986971</td>\n",
       "      <td>-1.275866</td>\n",
       "      <td>0.000000</td>\n",
       "      <td>0.000000</td>\n",
       "    </tr>\n",
       "  </tbody>\n",
       "</table>\n",
       "</div>"
      ],
      "text/plain": [
       "      vm_pu  va_degree        p_mw      q_mvar\n",
       "0  1.000000   0.000000 -171.833532  -60.908073\n",
       "1  0.973165  -2.574409  170.000000  105.350000\n",
       "2  1.014932  -2.629459    0.000000  -38.886821\n",
       "3  0.986971  -1.275866    0.000000    0.000000\n",
       "4  0.986971  -1.275866    0.000000    0.000000"
      ]
     },
     "execution_count": 16,
     "metadata": {},
     "output_type": "execute_result"
    }
   ],
   "source": [
    "net_2b.res_bus"
   ]
  },
  {
   "cell_type": "code",
   "execution_count": 17,
   "metadata": {
    "scrolled": true
   },
   "outputs": [
    {
     "data": {
      "text/plain": [
       "0    40.882344\n",
       "1    33.800907\n",
       "2    34.438744\n",
       "Name: loading_percent, dtype: float64"
      ]
     },
     "execution_count": 17,
     "metadata": {},
     "output_type": "execute_result"
    }
   ],
   "source": [
    "net_2b.res_line.loading_percent"
   ]
  },
  {
   "cell_type": "code",
   "execution_count": 18,
   "metadata": {},
   "outputs": [
    {
     "data": {
      "text/html": [
       "<div>\n",
       "<style scoped>\n",
       "    .dataframe tbody tr th:only-of-type {\n",
       "        vertical-align: middle;\n",
       "    }\n",
       "\n",
       "    .dataframe tbody tr th {\n",
       "        vertical-align: top;\n",
       "    }\n",
       "\n",
       "    .dataframe thead th {\n",
       "        text-align: right;\n",
       "    }\n",
       "</style>\n",
       "<table border=\"1\" class=\"dataframe\">\n",
       "  <thead>\n",
       "    <tr style=\"text-align: right;\">\n",
       "      <th></th>\n",
       "      <th>p_mw</th>\n",
       "      <th>q_mvar</th>\n",
       "      <th>vm_pu</th>\n",
       "    </tr>\n",
       "  </thead>\n",
       "  <tbody>\n",
       "    <tr>\n",
       "      <td>0</td>\n",
       "      <td>0.0</td>\n",
       "      <td>-38.886821</td>\n",
       "      <td>1.014932</td>\n",
       "    </tr>\n",
       "  </tbody>\n",
       "</table>\n",
       "</div>"
      ],
      "text/plain": [
       "   p_mw     q_mvar     vm_pu\n",
       "0   0.0 -38.886821  1.014932"
      ]
     },
     "execution_count": 18,
     "metadata": {},
     "output_type": "execute_result"
    }
   ],
   "source": [
    "net_2b.res_shunt"
   ]
  },
  {
   "cell_type": "code",
   "execution_count": 19,
   "metadata": {},
   "outputs": [
    {
     "data": {
      "text/plain": [
       "-0.12590946189861"
      ]
     },
     "execution_count": 19,
     "metadata": {},
     "output_type": "execute_result"
    }
   ],
   "source": [
    "k_x_comp_pu = K_x_comp_pu(net_2b, i_ref, 1, 0)\n",
    "k_x_comp_pu"
   ]
  },
  {
   "cell_type": "code",
   "execution_count": 20,
   "metadata": {},
   "outputs": [],
   "source": [
    "l_ind = 0\n",
    "l_scaling = 2.22\n",
    "l_p_mw = net_2b.load.p_mw[l_ind]\n",
    "l_q_mvar = net_2b.load.q_mvar[l_ind]\n",
    "net_2b.load.p_mw[l_ind] = l_p_mw*l_scaling\n",
    "net_2b.load.q_mvar[l_ind] = l_q_mvar*l_scaling\n",
    "pp.runpp(net_2b)"
   ]
  },
  {
   "cell_type": "code",
   "execution_count": 21,
   "metadata": {},
   "outputs": [
    {
     "data": {
      "text/html": [
       "<div>\n",
       "<style scoped>\n",
       "    .dataframe tbody tr th:only-of-type {\n",
       "        vertical-align: middle;\n",
       "    }\n",
       "\n",
       "    .dataframe tbody tr th {\n",
       "        vertical-align: top;\n",
       "    }\n",
       "\n",
       "    .dataframe thead th {\n",
       "        text-align: right;\n",
       "    }\n",
       "</style>\n",
       "<table border=\"1\" class=\"dataframe\">\n",
       "  <thead>\n",
       "    <tr style=\"text-align: right;\">\n",
       "      <th></th>\n",
       "      <th>vm_pu</th>\n",
       "      <th>va_degree</th>\n",
       "      <th>p_mw</th>\n",
       "      <th>q_mvar</th>\n",
       "    </tr>\n",
       "  </thead>\n",
       "  <tbody>\n",
       "    <tr>\n",
       "      <td>0</td>\n",
       "      <td>1.000000</td>\n",
       "      <td>0.000000</td>\n",
       "      <td>-388.381922</td>\n",
       "      <td>-244.226450</td>\n",
       "    </tr>\n",
       "    <tr>\n",
       "      <td>1</td>\n",
       "      <td>0.915624</td>\n",
       "      <td>-5.888333</td>\n",
       "      <td>377.400000</td>\n",
       "      <td>233.877000</td>\n",
       "    </tr>\n",
       "    <tr>\n",
       "      <td>2</td>\n",
       "      <td>0.954922</td>\n",
       "      <td>-5.943383</td>\n",
       "      <td>0.000000</td>\n",
       "      <td>-34.424197</td>\n",
       "    </tr>\n",
       "    <tr>\n",
       "      <td>3</td>\n",
       "      <td>0.957168</td>\n",
       "      <td>-2.820544</td>\n",
       "      <td>0.000000</td>\n",
       "      <td>0.000000</td>\n",
       "    </tr>\n",
       "    <tr>\n",
       "      <td>4</td>\n",
       "      <td>0.957168</td>\n",
       "      <td>-2.820544</td>\n",
       "      <td>0.000000</td>\n",
       "      <td>0.000000</td>\n",
       "    </tr>\n",
       "  </tbody>\n",
       "</table>\n",
       "</div>"
      ],
      "text/plain": [
       "      vm_pu  va_degree        p_mw      q_mvar\n",
       "0  1.000000   0.000000 -388.381922 -244.226450\n",
       "1  0.915624  -5.888333  377.400000  233.877000\n",
       "2  0.954922  -5.943383    0.000000  -34.424197\n",
       "3  0.957168  -2.820544    0.000000    0.000000\n",
       "4  0.957168  -2.820544    0.000000    0.000000"
      ]
     },
     "execution_count": 21,
     "metadata": {},
     "output_type": "execute_result"
    }
   ],
   "source": [
    "net_2b.res_bus"
   ]
  },
  {
   "cell_type": "code",
   "execution_count": 22,
   "metadata": {},
   "outputs": [
    {
     "data": {
      "text/html": [
       "<div>\n",
       "<style scoped>\n",
       "    .dataframe tbody tr th:only-of-type {\n",
       "        vertical-align: middle;\n",
       "    }\n",
       "\n",
       "    .dataframe tbody tr th {\n",
       "        vertical-align: top;\n",
       "    }\n",
       "\n",
       "    .dataframe thead th {\n",
       "        text-align: right;\n",
       "    }\n",
       "</style>\n",
       "<table border=\"1\" class=\"dataframe\">\n",
       "  <thead>\n",
       "    <tr style=\"text-align: right;\">\n",
       "      <th></th>\n",
       "      <th>p_from_mw</th>\n",
       "      <th>q_from_mvar</th>\n",
       "      <th>p_to_mw</th>\n",
       "      <th>q_to_mvar</th>\n",
       "      <th>pl_mw</th>\n",
       "      <th>ql_mvar</th>\n",
       "      <th>i_from_ka</th>\n",
       "      <th>i_to_ka</th>\n",
       "      <th>i_ka</th>\n",
       "      <th>vm_from_pu</th>\n",
       "      <th>va_from_degree</th>\n",
       "      <th>vm_to_pu</th>\n",
       "      <th>va_to_degree</th>\n",
       "      <th>loading_percent</th>\n",
       "    </tr>\n",
       "  </thead>\n",
       "  <tbody>\n",
       "    <tr>\n",
       "      <td>0</td>\n",
       "      <td>213.246444</td>\n",
       "      <td>130.077668</td>\n",
       "      <td>-206.843269</td>\n",
       "      <td>-105.913153</td>\n",
       "      <td>6.403175</td>\n",
       "      <td>24.164515</td>\n",
       "      <td>0.627023</td>\n",
       "      <td>0.637086</td>\n",
       "      <td>0.637086</td>\n",
       "      <td>1.000000</td>\n",
       "      <td>0.000000</td>\n",
       "      <td>0.915624</td>\n",
       "      <td>-5.888333</td>\n",
       "      <td>101.518825</td>\n",
       "    </tr>\n",
       "    <tr>\n",
       "      <td>1</td>\n",
       "      <td>175.135478</td>\n",
       "      <td>114.148782</td>\n",
       "      <td>-172.908078</td>\n",
       "      <td>-104.876204</td>\n",
       "      <td>2.227400</td>\n",
       "      <td>9.272578</td>\n",
       "      <td>0.524764</td>\n",
       "      <td>0.530353</td>\n",
       "      <td>0.530353</td>\n",
       "      <td>1.000000</td>\n",
       "      <td>0.000000</td>\n",
       "      <td>0.957168</td>\n",
       "      <td>-2.820544</td>\n",
       "      <td>84.510999</td>\n",
       "    </tr>\n",
       "    <tr>\n",
       "      <td>2</td>\n",
       "      <td>172.908078</td>\n",
       "      <td>104.876204</td>\n",
       "      <td>-170.635528</td>\n",
       "      <td>-94.987579</td>\n",
       "      <td>2.272550</td>\n",
       "      <td>9.888625</td>\n",
       "      <td>0.530353</td>\n",
       "      <td>0.535402</td>\n",
       "      <td>0.535402</td>\n",
       "      <td>0.957168</td>\n",
       "      <td>-2.820544</td>\n",
       "      <td>0.915624</td>\n",
       "      <td>-5.888333</td>\n",
       "      <td>85.315528</td>\n",
       "    </tr>\n",
       "  </tbody>\n",
       "</table>\n",
       "</div>"
      ],
      "text/plain": [
       "    p_from_mw  q_from_mvar     p_to_mw   q_to_mvar     pl_mw    ql_mvar  \\\n",
       "0  213.246444   130.077668 -206.843269 -105.913153  6.403175  24.164515   \n",
       "1  175.135478   114.148782 -172.908078 -104.876204  2.227400   9.272578   \n",
       "2  172.908078   104.876204 -170.635528  -94.987579  2.272550   9.888625   \n",
       "\n",
       "   i_from_ka   i_to_ka      i_ka  vm_from_pu  va_from_degree  vm_to_pu  \\\n",
       "0   0.627023  0.637086  0.637086    1.000000        0.000000  0.915624   \n",
       "1   0.524764  0.530353  0.530353    1.000000        0.000000  0.957168   \n",
       "2   0.530353  0.535402  0.535402    0.957168       -2.820544  0.915624   \n",
       "\n",
       "   va_to_degree  loading_percent  \n",
       "0     -5.888333       101.518825  \n",
       "1     -2.820544        84.510999  \n",
       "2     -5.888333        85.315528  "
      ]
     },
     "execution_count": 22,
     "metadata": {},
     "output_type": "execute_result"
    }
   ],
   "source": [
    "net_2b.res_line"
   ]
  },
  {
   "cell_type": "code",
   "execution_count": 23,
   "metadata": {},
   "outputs": [
    {
     "data": {
      "text/plain": [
       "0.4"
      ]
     },
     "execution_count": 23,
     "metadata": {},
     "output_type": "execute_result"
    }
   ],
   "source": [
    "k_x_comp_pu = K_x_comp_pu(net_2b, i_ref, 1, 0)\n",
    "k_x_comp_pu"
   ]
  },
  {
   "cell_type": "code",
   "execution_count": 24,
   "metadata": {
    "scrolled": true
   },
   "outputs": [
    {
     "data": {
      "text/html": [
       "<div>\n",
       "<style scoped>\n",
       "    .dataframe tbody tr th:only-of-type {\n",
       "        vertical-align: middle;\n",
       "    }\n",
       "\n",
       "    .dataframe tbody tr th {\n",
       "        vertical-align: top;\n",
       "    }\n",
       "\n",
       "    .dataframe thead th {\n",
       "        text-align: right;\n",
       "    }\n",
       "</style>\n",
       "<table border=\"1\" class=\"dataframe\">\n",
       "  <thead>\n",
       "    <tr style=\"text-align: right;\">\n",
       "      <th></th>\n",
       "      <th>vm_pu</th>\n",
       "      <th>va_degree</th>\n",
       "      <th>p_mw</th>\n",
       "      <th>q_mvar</th>\n",
       "    </tr>\n",
       "  </thead>\n",
       "  <tbody>\n",
       "    <tr>\n",
       "      <td>0</td>\n",
       "      <td>1.000000</td>\n",
       "      <td>0.000000</td>\n",
       "      <td>-388.732654</td>\n",
       "      <td>-249.603810</td>\n",
       "    </tr>\n",
       "    <tr>\n",
       "      <td>1</td>\n",
       "      <td>0.909753</td>\n",
       "      <td>-6.356558</td>\n",
       "      <td>377.400000</td>\n",
       "      <td>233.877000</td>\n",
       "    </tr>\n",
       "    <tr>\n",
       "      <td>2</td>\n",
       "      <td>0.948799</td>\n",
       "      <td>-6.411608</td>\n",
       "      <td>0.000000</td>\n",
       "      <td>-33.984172</td>\n",
       "    </tr>\n",
       "    <tr>\n",
       "      <td>3</td>\n",
       "      <td>0.959142</td>\n",
       "      <td>-2.555175</td>\n",
       "      <td>0.000000</td>\n",
       "      <td>0.000000</td>\n",
       "    </tr>\n",
       "    <tr>\n",
       "      <td>4</td>\n",
       "      <td>0.948980</td>\n",
       "      <td>-3.518162</td>\n",
       "      <td>0.000000</td>\n",
       "      <td>0.000000</td>\n",
       "    </tr>\n",
       "  </tbody>\n",
       "</table>\n",
       "</div>"
      ],
      "text/plain": [
       "      vm_pu  va_degree        p_mw      q_mvar\n",
       "0  1.000000   0.000000 -388.732654 -249.603810\n",
       "1  0.909753  -6.356558  377.400000  233.877000\n",
       "2  0.948799  -6.411608    0.000000  -33.984172\n",
       "3  0.959142  -2.555175    0.000000    0.000000\n",
       "4  0.948980  -3.518162    0.000000    0.000000"
      ]
     },
     "execution_count": 24,
     "metadata": {},
     "output_type": "execute_result"
    }
   ],
   "source": [
    "net_2b.switch.closed[1] = False\n",
    "net_2b.impedance.loc[0, ['xft_pu','xtf_pu']] = x_line_pu * k_x_comp_pu\n",
    "pp.runpp(net_2b)\n",
    "net_2b.res_bus"
   ]
  },
  {
   "cell_type": "code",
   "execution_count": 25,
   "metadata": {},
   "outputs": [
    {
     "data": {
      "text/html": [
       "<div>\n",
       "<style scoped>\n",
       "    .dataframe tbody tr th:only-of-type {\n",
       "        vertical-align: middle;\n",
       "    }\n",
       "\n",
       "    .dataframe tbody tr th {\n",
       "        vertical-align: top;\n",
       "    }\n",
       "\n",
       "    .dataframe thead th {\n",
       "        text-align: right;\n",
       "    }\n",
       "</style>\n",
       "<table border=\"1\" class=\"dataframe\">\n",
       "  <thead>\n",
       "    <tr style=\"text-align: right;\">\n",
       "      <th></th>\n",
       "      <th>p_from_mw</th>\n",
       "      <th>q_from_mvar</th>\n",
       "      <th>p_to_mw</th>\n",
       "      <th>q_to_mvar</th>\n",
       "      <th>pl_mw</th>\n",
       "      <th>ql_mvar</th>\n",
       "      <th>i_from_ka</th>\n",
       "      <th>i_to_ka</th>\n",
       "      <th>i_ka</th>\n",
       "      <th>vm_from_pu</th>\n",
       "      <th>va_from_degree</th>\n",
       "      <th>vm_to_pu</th>\n",
       "      <th>va_to_degree</th>\n",
       "      <th>loading_percent</th>\n",
       "    </tr>\n",
       "  </thead>\n",
       "  <tbody>\n",
       "    <tr>\n",
       "      <td>0</td>\n",
       "      <td>228.731024</td>\n",
       "      <td>140.140891</td>\n",
       "      <td>-221.355223</td>\n",
       "      <td>-111.067481</td>\n",
       "      <td>7.375801</td>\n",
       "      <td>29.073410</td>\n",
       "      <td>0.673363</td>\n",
       "      <td>0.683343</td>\n",
       "      <td>0.683343</td>\n",
       "      <td>1.00000</td>\n",
       "      <td>0.000000</td>\n",
       "      <td>0.909753</td>\n",
       "      <td>-6.356558</td>\n",
       "      <td>108.889840</td>\n",
       "    </tr>\n",
       "    <tr>\n",
       "      <td>1</td>\n",
       "      <td>160.001630</td>\n",
       "      <td>109.462919</td>\n",
       "      <td>-158.083672</td>\n",
       "      <td>-102.055076</td>\n",
       "      <td>1.917957</td>\n",
       "      <td>7.407843</td>\n",
       "      <td>0.486637</td>\n",
       "      <td>0.492453</td>\n",
       "      <td>0.492453</td>\n",
       "      <td>1.00000</td>\n",
       "      <td>0.000000</td>\n",
       "      <td>0.959142</td>\n",
       "      <td>-2.555175</td>\n",
       "      <td>78.471779</td>\n",
       "    </tr>\n",
       "    <tr>\n",
       "      <td>2</td>\n",
       "      <td>158.083653</td>\n",
       "      <td>98.330826</td>\n",
       "      <td>-156.122567</td>\n",
       "      <td>-90.254767</td>\n",
       "      <td>1.961086</td>\n",
       "      <td>8.076059</td>\n",
       "      <td>0.492453</td>\n",
       "      <td>0.497582</td>\n",
       "      <td>0.497582</td>\n",
       "      <td>0.94898</td>\n",
       "      <td>-3.518162</td>\n",
       "      <td>0.909753</td>\n",
       "      <td>-6.356558</td>\n",
       "      <td>79.288966</td>\n",
       "    </tr>\n",
       "  </tbody>\n",
       "</table>\n",
       "</div>"
      ],
      "text/plain": [
       "    p_from_mw  q_from_mvar     p_to_mw   q_to_mvar     pl_mw    ql_mvar  \\\n",
       "0  228.731024   140.140891 -221.355223 -111.067481  7.375801  29.073410   \n",
       "1  160.001630   109.462919 -158.083672 -102.055076  1.917957   7.407843   \n",
       "2  158.083653    98.330826 -156.122567  -90.254767  1.961086   8.076059   \n",
       "\n",
       "   i_from_ka   i_to_ka      i_ka  vm_from_pu  va_from_degree  vm_to_pu  \\\n",
       "0   0.673363  0.683343  0.683343     1.00000        0.000000  0.909753   \n",
       "1   0.486637  0.492453  0.492453     1.00000        0.000000  0.959142   \n",
       "2   0.492453  0.497582  0.497582     0.94898       -3.518162  0.909753   \n",
       "\n",
       "   va_to_degree  loading_percent  \n",
       "0     -6.356558       108.889840  \n",
       "1     -2.555175        78.471779  \n",
       "2     -6.356558        79.288966  "
      ]
     },
     "execution_count": 25,
     "metadata": {},
     "output_type": "execute_result"
    }
   ],
   "source": [
    "net_2b.res_line"
   ]
  },
  {
   "cell_type": "code",
   "execution_count": 26,
   "metadata": {},
   "outputs": [
    {
     "name": "stdout",
     "output_type": "stream",
     "text": [
      "Nosecurve stop: line load limit reached\n",
      "2.4600000000000017\n",
      "Nosecurve stop: line load limit reached\n",
      "2.720000000000002\n",
      "Nosecurve stop: line load limit reached\n",
      "2.560000000000002\n"
     ]
    },
    {
     "data": {
      "image/png": "[encoded data removed]",
      "text/plain": [
       "<Figure size 432x288 with 1 Axes>"
      ]
     },
     "metadata": {
      "needs_background": "light"
     },
     "output_type": "display_data"
    },
    {
     "data": {
      "image/png": "[encoded data removed]",
      "text/plain": [
       "<Figure size 432x288 with 1 Axes>"
      ]
     },
     "metadata": {
      "needs_background": "light"
     },
     "output_type": "display_data"
    },
    {
     "data": {
      "image/png": "[encoded data removed]",
      "text/plain": [
       "<Figure size 432x288 with 1 Axes>"
      ]
     },
     "metadata": {
      "needs_background": "light"
     },
     "output_type": "display_data"
    },
    {
     "data": {
      "image/png": "[encoded data removed]",
      "text/plain": [
       "<Figure size 432x288 with 1 Axes>"
      ]
     },
     "metadata": {
      "needs_background": "light"
     },
     "output_type": "display_data"
    }
   ],
   "source": [
    "l_ind = 0\n",
    "l_scaling = 1/l_scaling #Scale back to nominal before nose curves\n",
    "l_p_mw = net_2b.load.p_mw[l_ind]\n",
    "l_q_mvar = net_2b.load.q_mvar[l_ind]\n",
    "net_2b.load.p_mw[l_ind] = l_p_mw*l_scaling\n",
    "net_2b.load.q_mvar[l_ind] = l_q_mvar*l_scaling\n",
    "\n",
    "\n",
    "l_load_limit = 120\n",
    "NoseCurve1 = NoseCurve(1, net_2b, shunt=False, sc=False, line_load_limit=l_load_limit)\n",
    "print(NoseCurve1[2][len(NoseCurve1[2])-1])\n",
    "NoseCurve2 = NoseCurve(1, net_2b, shunt=True, sc=False, line_load_limit=l_load_limit)\n",
    "print(NoseCurve2[2][len(NoseCurve2[2])-1])\n",
    "NoseCurve3 = NoseCurve(1, net_2b, shunt=True, sc=True, line_load_limit=l_load_limit)\n",
    "print(NoseCurve3[2][len(NoseCurve3[2])-1])\n",
    "figMerge1 = MergeFig(NoseCurve1[1], NoseCurve1[2], 'No FACTS', \n",
    "                     NoseCurve2[1], NoseCurve2[2], 'Shunt',\n",
    "                     NoseCurve3[1], NoseCurve3[2], 'Shunt+SC')\n"
   ]
  },
  {
   "cell_type": "code",
   "execution_count": 27,
   "metadata": {},
   "outputs": [
    {
     "data": {
      "text/html": [
       "<div>\n",
       "<style scoped>\n",
       "    .dataframe tbody tr th:only-of-type {\n",
       "        vertical-align: middle;\n",
       "    }\n",
       "\n",
       "    .dataframe tbody tr th {\n",
       "        vertical-align: top;\n",
       "    }\n",
       "\n",
       "    .dataframe thead th {\n",
       "        text-align: right;\n",
       "    }\n",
       "</style>\n",
       "<table border=\"1\" class=\"dataframe\">\n",
       "  <thead>\n",
       "    <tr style=\"text-align: right;\">\n",
       "      <th></th>\n",
       "      <th>name</th>\n",
       "      <th>std_type</th>\n",
       "      <th>hv_bus</th>\n",
       "      <th>lv_bus</th>\n",
       "      <th>sn_mva</th>\n",
       "      <th>vn_hv_kv</th>\n",
       "      <th>vn_lv_kv</th>\n",
       "      <th>vk_percent</th>\n",
       "      <th>vkr_percent</th>\n",
       "      <th>pfe_kw</th>\n",
       "      <th>...</th>\n",
       "      <th>tap_neutral</th>\n",
       "      <th>tap_min</th>\n",
       "      <th>tap_max</th>\n",
       "      <th>tap_step_percent</th>\n",
       "      <th>tap_step_degree</th>\n",
       "      <th>tap_pos</th>\n",
       "      <th>tap_phase_shifter</th>\n",
       "      <th>parallel</th>\n",
       "      <th>df</th>\n",
       "      <th>in_service</th>\n",
       "    </tr>\n",
       "  </thead>\n",
       "  <tbody>\n",
       "    <tr>\n",
       "      <td>0</td>\n",
       "      <td>trafoSVC</td>\n",
       "      <td>None</td>\n",
       "      <td>1</td>\n",
       "      <td>2</td>\n",
       "      <td>110.0</td>\n",
       "      <td>230.0</td>\n",
       "      <td>69.0</td>\n",
       "      <td>12.0</td>\n",
       "      <td>0.26</td>\n",
       "      <td>55.0</td>\n",
       "      <td>...</td>\n",
       "      <td>0</td>\n",
       "      <td>-9</td>\n",
       "      <td>9</td>\n",
       "      <td>1.5</td>\n",
       "      <td>0.0</td>\n",
       "      <td>0</td>\n",
       "      <td>False</td>\n",
       "      <td>1</td>\n",
       "      <td>1.0</td>\n",
       "      <td>True</td>\n",
       "    </tr>\n",
       "  </tbody>\n",
       "</table>\n",
       "<p>1 rows × 23 columns</p>\n",
       "</div>"
      ],
      "text/plain": [
       "       name std_type  hv_bus  lv_bus  sn_mva  vn_hv_kv  vn_lv_kv  vk_percent  \\\n",
       "0  trafoSVC     None       1       2   110.0     230.0      69.0        12.0   \n",
       "\n",
       "   vkr_percent  pfe_kw  ...  tap_neutral  tap_min tap_max  tap_step_percent  \\\n",
       "0         0.26    55.0  ...            0       -9       9               1.5   \n",
       "\n",
       "   tap_step_degree  tap_pos  tap_phase_shifter  parallel   df  in_service  \n",
       "0              0.0        0              False         1  1.0        True  \n",
       "\n",
       "[1 rows x 23 columns]"
      ]
     },
     "execution_count": 27,
     "metadata": {},
     "output_type": "execute_result"
    }
   ],
   "source": [
    "net_2b.trafo"
   ]
  },
  {
   "cell_type": "code",
   "execution_count": 28,
   "metadata": {},
   "outputs": [
    {
     "data": {
      "text/plain": [
       "120.54719927836271"
      ]
     },
     "execution_count": 28,
     "metadata": {},
     "output_type": "execute_result"
    }
   ],
   "source": [
    "45.12148693231915/.37430556"
   ]
  },
  {
   "cell_type": "code",
   "execution_count": 29,
   "metadata": {},
   "outputs": [
    {
     "name": "stdout",
     "output_type": "stream",
     "text": [
      "0    0\n",
      "Name: tap_pos, dtype: int32\n",
      "      vm_pu  va_degree        p_mw      q_mvar\n",
      "0  1.000000   0.000000 -171.871116  -61.725056\n",
      "1  0.971626  -2.760838  170.000000  105.350000\n",
      "2  1.013327  -2.815888    0.000000  -38.763900\n",
      "3  0.987626  -1.164555    0.000000    0.000000\n",
      "4  0.984713  -1.569483    0.000000    0.000000\n",
      "0    0\n",
      "Name: tap_pos, dtype: int32\n",
      "      vm_pu  va_degree        p_mw      q_mvar\n",
      "0  1.000000   0.000000 -171.871116  -61.725056\n",
      "1  0.971626  -2.760838  170.000000  105.350000\n",
      "2  1.013327  -2.815888    0.000000  -38.763900\n",
      "3  0.987626  -1.164555    0.000000    0.000000\n",
      "4  0.984713  -1.569483    0.000000    0.000000\n"
     ]
    }
   ],
   "source": [
    "pp.runpp(net_2b)\n",
    "print(net_2b.trafo.tap_pos)\n",
    "print(net_2b.res_bus)\n",
    "trafo_control = ct.DiscreteTapControl(net=net_2b, tid=0,vm_lower_pu=0.95, vm_upper_pu=1.05)\n",
    "pp.runpp(net_2b, run_control=True)\n",
    "print(net_2b.trafo.tap_pos)\n",
    "print(net_2b.res_bus)"
   ]
  },
  {
   "cell_type": "code",
   "execution_count": 30,
   "metadata": {},
   "outputs": [
    {
     "data": {
      "text/html": [
       "<div>\n",
       "<style scoped>\n",
       "    .dataframe tbody tr th:only-of-type {\n",
       "        vertical-align: middle;\n",
       "    }\n",
       "\n",
       "    .dataframe tbody tr th {\n",
       "        vertical-align: top;\n",
       "    }\n",
       "\n",
       "    .dataframe thead th {\n",
       "        text-align: right;\n",
       "    }\n",
       "</style>\n",
       "<table border=\"1\" class=\"dataframe\">\n",
       "  <thead>\n",
       "    <tr style=\"text-align: right;\">\n",
       "      <th></th>\n",
       "      <th>p_from_mw</th>\n",
       "      <th>q_from_mvar</th>\n",
       "      <th>p_to_mw</th>\n",
       "      <th>q_to_mvar</th>\n",
       "      <th>pl_mw</th>\n",
       "      <th>ql_mvar</th>\n",
       "      <th>i_from_ka</th>\n",
       "      <th>i_to_ka</th>\n",
       "      <th>i_ka</th>\n",
       "      <th>vm_from_pu</th>\n",
       "      <th>va_from_degree</th>\n",
       "      <th>vm_to_pu</th>\n",
       "      <th>va_to_degree</th>\n",
       "      <th>loading_percent</th>\n",
       "    </tr>\n",
       "  </thead>\n",
       "  <tbody>\n",
       "    <tr>\n",
       "      <td>0</td>\n",
       "      <td>100.543253</td>\n",
       "      <td>34.155963</td>\n",
       "      <td>-99.375428</td>\n",
       "      <td>-36.619581</td>\n",
       "      <td>1.167825</td>\n",
       "      <td>-2.463619</td>\n",
       "      <td>0.266551</td>\n",
       "      <td>0.273615</td>\n",
       "      <td>0.273615</td>\n",
       "      <td>1.000000</td>\n",
       "      <td>0.000000</td>\n",
       "      <td>0.971626</td>\n",
       "      <td>-2.760838</td>\n",
       "      <td>43.600251</td>\n",
       "    </tr>\n",
       "    <tr>\n",
       "      <td>1</td>\n",
       "      <td>71.327863</td>\n",
       "      <td>27.569094</td>\n",
       "      <td>-71.026974</td>\n",
       "      <td>-29.982074</td>\n",
       "      <td>0.300889</td>\n",
       "      <td>-2.412980</td>\n",
       "      <td>0.191957</td>\n",
       "      <td>0.195952</td>\n",
       "      <td>0.195952</td>\n",
       "      <td>1.000000</td>\n",
       "      <td>0.000000</td>\n",
       "      <td>0.987626</td>\n",
       "      <td>-1.164555</td>\n",
       "      <td>31.224664</td>\n",
       "    </tr>\n",
       "    <tr>\n",
       "      <td>2</td>\n",
       "      <td>71.026971</td>\n",
       "      <td>29.392406</td>\n",
       "      <td>-70.713303</td>\n",
       "      <td>-31.596981</td>\n",
       "      <td>0.313668</td>\n",
       "      <td>-2.204575</td>\n",
       "      <td>0.195952</td>\n",
       "      <td>0.200098</td>\n",
       "      <td>0.200098</td>\n",
       "      <td>0.984713</td>\n",
       "      <td>-1.569483</td>\n",
       "      <td>0.971626</td>\n",
       "      <td>-2.760838</td>\n",
       "      <td>31.885332</td>\n",
       "    </tr>\n",
       "  </tbody>\n",
       "</table>\n",
       "</div>"
      ],
      "text/plain": [
       "    p_from_mw  q_from_mvar    p_to_mw  q_to_mvar     pl_mw   ql_mvar  \\\n",
       "0  100.543253    34.155963 -99.375428 -36.619581  1.167825 -2.463619   \n",
       "1   71.327863    27.569094 -71.026974 -29.982074  0.300889 -2.412980   \n",
       "2   71.026971    29.392406 -70.713303 -31.596981  0.313668 -2.204575   \n",
       "\n",
       "   i_from_ka   i_to_ka      i_ka  vm_from_pu  va_from_degree  vm_to_pu  \\\n",
       "0   0.266551  0.273615  0.273615    1.000000        0.000000  0.971626   \n",
       "1   0.191957  0.195952  0.195952    1.000000        0.000000  0.987626   \n",
       "2   0.195952  0.200098  0.200098    0.984713       -1.569483  0.971626   \n",
       "\n",
       "   va_to_degree  loading_percent  \n",
       "0     -2.760838        43.600251  \n",
       "1     -1.164555        31.224664  \n",
       "2     -2.760838        31.885332  "
      ]
     },
     "execution_count": 30,
     "metadata": {},
     "output_type": "execute_result"
    }
   ],
   "source": [
    "net_2b.res_line"
   ]
  },
  {
   "cell_type": "code",
   "execution_count": 31,
   "metadata": {},
   "outputs": [
    {
     "name": "stdout",
     "output_type": "stream",
     "text": [
      "0.32449327128318584\n",
      "100\n",
      "0    1.000000\n",
      "1    0.934848\n",
      "2    0.842897\n",
      "3    0.971147\n",
      "4    0.964511\n",
      "Name: vm_pu, dtype: float64\n",
      "0    61.327804\n",
      "1    44.794801\n",
      "2    46.018755\n",
      "Name: loading_percent, dtype: float64\n"
     ]
    }
   ],
   "source": [
    " # Shunt compensation\n",
    "v_ref_pu = 0.8\n",
    "q_comp = Shunt_q_comp(net_2b, v_ref_pu, bus_index, 0)\n",
    "net_2b.shunt.q_mvar =  q_comp\n",
    "#print(network.shunt.q_mvar)\n",
    "\n",
    "# Series compensation\n",
    "i_ref = 15#41.12944816652619#45.12148693231915 #Should be changed every X time steps to emulate \n",
    "                          #change by system operator when implemented in RL.\n",
    "k_x_comp_pu = K_x_comp_pu(net_2b, i_ref, 1, 0)\n",
    "net_2b.impedance.loc[0, ['xft_pu','xtf_pu']] = x_line_pu * k_x_comp_pu\n",
    "#print(k_x_comp_pu)\n",
    "\n",
    "pp.runpp(net_2b)\n",
    "print(k_x_comp_pu)\n",
    "print(q_comp)\n",
    "print(net_2b.res_bus.vm_pu)\n",
    "print(net_2b.res_line.loading_percent)"
   ]
  },
  {
   "cell_type": "code",
   "execution_count": 32,
   "metadata": {},
   "outputs": [
    {
     "name": "stdout",
     "output_type": "stream",
     "text": [
      "-1.7903822837855512\n",
      "-246.82445299208334\n"
     ]
    }
   ],
   "source": [
    "v_bus_pu = 0.9531755470079166\n",
    "v_ref_pu =1.2\n",
    "loading_perc_meas = 45.48088581072245\n",
    "loading_perc_ref =135\n",
    "\n",
    "c = 5 #Coefficient for transnition tuned to hit equal load sharing at nominal IEEE\n",
    "k_x_comp_max_ind = 0.4\n",
    "k = 10 #Coefficient for transition,\n",
    "q_rated = 100 #Mvar\n",
    "\n",
    "k_delta = (c * k_x_comp_max_ind * (loading_perc_meas - loading_perc_ref) / 100)\n",
    "q_delta = k*q_rated*(v_bus_pu-v_ref_pu)\n",
    "print(k_delta)\n",
    "print(q_delta)"
   ]
  },
  {
   "cell_type": "code",
   "execution_count": null,
   "metadata": {},
   "outputs": [],
   "source": []
  }
 ],
 "metadata": {
  "kernelspec": {
   "display_name": "Python 3",
   "language": "python",
   "name": "python3"
  },
  "language_info": {
   "codemirror_mode": {
    "name": "ipython",
    "version": 3
   },
   "file_extension": ".py",
   "mimetype": "text/x-python",
   "name": "python",
   "nbconvert_exporter": "python",
   "pygments_lexer": "ipython3",
   "version": "3.7.4"
  }
 },
 "nbformat": 4,
 "nbformat_minor": 2
}
