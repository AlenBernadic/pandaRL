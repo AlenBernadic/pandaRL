{
 "cells": [
  {
   "cell_type": "code",
   "execution_count": 749,
   "metadata": {
    "scrolled": true
   },
   "outputs": [],
   "source": [
    "import pandapower as pp\n",
    "import pandapower.networks as nw\n",
    "import pandapower.plotting as plot\n",
    "import matplotlib.pyplot as plt\n",
    "import math\n",
    "import numpy as np\n",
    "import copy\n",
    "import pandapower.shortcircuit as sc\n",
    "from matplotlib.transforms import BlendedGenericTransform\n",
    "#from pandapower.plotting import simple_plot, simple_plotly, pf_res_plotly\n",
    "\n",
    "# Predefined network of IEEE 4gs bus system \n",
    "net = pp.networks.case4gs()\n",
    "#plot.simple_plot(net)"
   ]
  },
  {
   "cell_type": "code",
   "execution_count": 750,
   "metadata": {},
   "outputs": [],
   "source": [
    "####Shunt FACTS device (bus 1)\n",
    "#MV bus\n",
    "bus_SVC = pp.create_bus(net, name='MV SVCtrafo bus', vn_kv=69, type='n', geodata=(-2,2.5), zone=2, max_vm_pu=1.1,\n",
    "                        min_vm_pu=0.9)\n",
    "#Trafo\n",
    "trafoSVC = pp.create_transformer_from_parameters(net, hv_bus=1, lv_bus=4, in_service=True, \n",
    "                                                name='trafoSVC', sn_mva=110, vn_hv_kv=230 , vn_lv_kv=69, \n",
    "                                                vk_percent=12, vkr_percent=0.26, pfe_kw=55, i0_percent=0.06,\n",
    "                                                shift_degree=0, tap_side='hv', tap_neutral=0, tap_min=-9, tap_max=9,\n",
    "                                                tap_step_percent=1.5, tap_step_degree=0, tap_phase_shifter=False) \n",
    "#Breaker between grid HV bus and trafo HV bus to connect buses\n",
    "sw_SVC = pp.create_switch(net, bus=1, element=0, et='t', type='CB', closed=False)\n",
    "#Shunt devices connected with MV bus\n",
    "shuntDev = pp.create_shunt(net, bus_SVC, 1, in_service=True, name='Shunt Device', step = 1)"
   ]
  },
  {
   "cell_type": "code",
   "execution_count": 751,
   "metadata": {
    "scrolled": true
   },
   "outputs": [],
   "source": [
    "####Series device (at line 3, in middle between bus 2 and 3)\n",
    "#Add intermediate buses for bypass and series compensation impedance\n",
    "bus_SC1 = pp.create_bus(net, name='SC bus 1', vn_kv=230, type='n', geodata=(-1,3.1), zone=2, max_vm_pu=1.1, min_vm_pu=0.9)\n",
    "bus_SC2 = pp.create_bus(net, name='SC bus 2', vn_kv=230, type='n', geodata=(-1,3.0), zone=2, max_vm_pu=1.1, min_vm_pu=0.9)\n",
    "sw_SC_bypass = pp.create_switch(net, bus=5, element=6, et='b', type='CB', closed=True)\n",
    "imp_SC = pp.create_impedance(net, from_bus=5, to_bus=6, rft_pu=0.000001272, xft_pu=-0.0636,\n",
    "                             rtf_pu=0.000001272, xtf_pu=-0.0636, sn_mva=250, in_service=True) #Just some default values\n",
    "#Adjust orginal Line 3 to connect to new buses instead.\n",
    "net.line.at[3, ['length_km', 'to_bus', 'name']] = [0.5, 5, 'line1_SC']                        \n",
    "lineSC2 = pp.create_line_from_parameters(net, name='line2_SC', c_nf_per_km=net.line.at[3,'c_nf_per_km'],\n",
    "                       df=net.line.at[3, 'df'], from_bus=6, g_us_per_km=net.line.at[3, 'g_us_per_km'],\n",
    "                       in_service=net.line.at[3, 'in_service'], length_km=0.5, max_i_ka=net.line.at[3, 'max_i_ka'],\n",
    "                       max_loading_percent=net.line.at[3, 'max_loading_percent'], parallel=net.line.at[3, 'parallel'],\n",
    "                       r_ohm_per_km=net.line.at[3, 'r_ohm_per_km'], std_type=net.line.at[3, 'std_type'], to_bus=3, \n",
    "                       type=net.line.at[3, 'type'], x_ohm_per_km=net.line.at[3, 'x_ohm_per_km'])"
   ]
  },
  {
   "cell_type": "code",
   "execution_count": 752,
   "metadata": {},
   "outputs": [
    {
     "data": {
      "text/plain": [
       "366.1427027318814"
      ]
     },
     "execution_count": 752,
     "metadata": {},
     "output_type": "execute_result"
    }
   ],
   "source": [
    "###EXCHANGE PV GEN INTO SGEN\n",
    "pp.runpp(net)\n",
    "net.gen.drop(index=[0], inplace= True) #Drop PV generator\n",
    "sgen_nom_p_mw = net.res_gen.p_mw # Set generator nominal output as output of generator during IEEE nominal setup\n",
    "sgen_nom_q_mvar = net.res_gen.q_mvar\n",
    "sgen_nom_s_mva = math.sqrt(sgen_nom_p_mw**2 + sgen_nom_q_mvar**2)\n",
    "sgen = pp.create_sgen(net, 3, p_mw=sgen_nom_p_mw, q_mvar=sgen_nom_q_mvar, name='static generator', scaling=1, \n",
    "                      sn_mva=sgen_nom_s_mva)\n",
    "sgen_nom_s_mva"
   ]
  },
  {
   "cell_type": "code",
   "execution_count": 753,
   "metadata": {},
   "outputs": [
    {
     "name": "stdout",
     "output_type": "stream",
     "text": [
      "-0.8\n"
     ]
    }
   ],
   "source": [
    "##Function for transition from reference power to reactance of \"TCSC\"\n",
    "def K_x_comp_pu(net, x_line_pu, p_ref_pu):\n",
    "    network = net\n",
    "    k_x_comp_max_ind = 0.2 #maximum inductive reactance compensation of the line\n",
    "    k_x_comp_max_cap = -0.8 #maximum capacitive reactance compensation of the line\n",
    "    v_s_pu = net.res_bus.vm_pu[3]\n",
    "    v_r_pu = net.res_bus.vm_pu[2]\n",
    "    delta_deg = net.res_bus.va_degree[3] - net.res_bus.va_degree[2]\n",
    "    k_x_comp = ((v_s_pu * v_r_pu * math.sin(math.radians(delta_deg))) / (p_ref_pu* x_line_ohm)) - 1\n",
    "    #print(k_x_comp)\n",
    "    if k_x_comp > k_x_comp_max_ind:\n",
    "        k_x_comp = k_x_comp_max_ind\n",
    "    if k_x_comp < k_x_comp_max_cap:\n",
    "        k_x_comp = k_x_comp_max_cap\n",
    "    return k_x_comp\n",
    "\n",
    "p_ref_pu = 1\n",
    "S_base = 100e6\n",
    "V_base = 230e3\n",
    "x_base = pow(V_base,2) / S_base\n",
    "x_line_ohm = net.line.x_ohm_per_km[3]\n",
    "x_line_pu = x_line_ohm / x_base # Can take one since this line is divivded into \n",
    "                                              # 2 identical lines with length 0.5 km  \n",
    "k_x_comp_pu = K_x_comp_pu(net, x_line_pu, p_ref_pu)\n",
    "print(k_x_comp_pu)"
   ]
  },
  {
   "cell_type": "code",
   "execution_count": 754,
   "metadata": {},
   "outputs": [
    {
     "data": {
      "text/plain": [
       "-43.94691498926212"
      ]
     },
     "execution_count": 754,
     "metadata": {},
     "output_type": "execute_result"
    }
   ],
   "source": [
    "## Function for transition from reference parameter to reactive power output of shunt device\n",
    "def Shunt_q_comp(net, v_ref_pu):\n",
    "    v_bus_pu = net.res_bus.vm_pu[1]\n",
    "    k = 25 #Coefficient for transition, tuned to hit 1 pu with nominal IEEE\n",
    "    q_rated = 100 #Mvar\n",
    "    q_min = -q_rated\n",
    "    q_max = q_rated\n",
    "    q_comp = k*q_rated*(v_bus_pu-v_ref_pu)    \n",
    "    \n",
    "    if q_comp > q_max:\n",
    "        q_comp = q_max\n",
    "    if q_comp < q_min:\n",
    "        q_comp = q_min\n",
    "    \n",
    "    return q_comp\n",
    "\n",
    "q_comp = Shunt_q_comp(net, 1)\n",
    "q_comp"
   ]
  },
  {
   "cell_type": "code",
   "execution_count": 755,
   "metadata": {},
   "outputs": [],
   "source": [
    "##Function for nose curve\n",
    "def NoseCurve(p_low_pu, p_high_pu, bus_index, net, x_line_pu):\n",
    "    \n",
    "    network = copy.deepcopy(net) #So not changing anything in actual network\n",
    "    fig = plt.figure()\n",
    "    \n",
    "    l_arr = np.linspace(p_low_pu, p_high_pu, 100)\n",
    "    l_len = len(l_arr)\n",
    "    v_res = np.zeros(l_len)\n",
    "    l_ind = bus_index\n",
    "    l_p_mw = network.load.p_mw[l_ind]\n",
    "    l_q_mvar = network.load.q_mvar[l_ind]\n",
    "    \n",
    "    for ind in range(l_len):\n",
    "        # Load scaling\n",
    "        l_scaling = l_arr[ind]\n",
    "        network.load.p_mw[l_ind] = l_p_mw*l_scaling\n",
    "        network.load.q_mvar[l_ind] = l_q_mvar*l_scaling\n",
    "        pp.runpp(network)\n",
    "        \n",
    "        # Shunt compensation\n",
    "        v_ref_pu = 1\n",
    "        q_comp = Shunt_q_comp(network, v_ref_pu)\n",
    "        network.shunt.q_mvar =  q_comp\n",
    "        #print(network.shunt.q_mvar)\n",
    "        \n",
    "        # Series compensation\n",
    "        p_ref_pu = 15.7\n",
    "        k_x_comp_pu = K_x_comp_pu(network, x_line_pu, p_ref_pu)\n",
    "        network.impedance.loc[0, ['xft_pu','xtf_pu']] = x_line_pu * k_x_comp_pu\n",
    "        #print(x_line_pu * k_x_comp_pu)\n",
    "        \n",
    "        pp.runpp(network)\n",
    "        v_res[ind] = network.res_bus.vm_pu[l_ind]\n",
    "\n",
    "    plt.plot(l_arr, v_res, figure=fig)\n",
    "    plt.ylabel('Bus Voltage [pu]')\n",
    "    plt.xlabel('Active power [pu]')\n",
    "    plt.grid(True)\n",
    "    \n",
    "    return [fig, v_res, l_arr]"
   ]
  },
  {
   "cell_type": "code",
   "execution_count": 756,
   "metadata": {},
   "outputs": [],
   "source": [
    "##Function to merge figures into 1\n",
    "def MergeFig(v_res1, l_arr1, label1, v_res2, l_arr2, label2, v_res3, l_arr3, label3):\n",
    "    fig = plt.figure()\n",
    "    plt.plot(l_arr1, v_res1, figure=fig, label=label1)\n",
    "    plt.plot(l_arr2, v_res2, figure=fig, label=label2)\n",
    "    plt.plot(l_arr3, v_res3, figure=fig, label=label3)\n",
    "    plt.ylabel('Bus Voltage [pu]')\n",
    "    plt.xlabel('Active power [pu]')\n",
    "    plt.grid(True)\n",
    "    plt.legend()\n",
    "    return fig    "
   ]
  },
  {
   "cell_type": "code",
   "execution_count": 757,
   "metadata": {},
   "outputs": [
    {
     "data": {
      "image/png": "[encoded data removed]",
      "text/plain": [
       "<Figure size 432x288 with 1 Axes>"
      ]
     },
     "metadata": {
      "needs_background": "light"
     },
     "output_type": "display_data"
    }
   ],
   "source": [
    "NoseCurve1 = NoseCurve(0.2,4.4,1, net, x_line_pu)"
   ]
  },
  {
   "cell_type": "code",
   "execution_count": 758,
   "metadata": {},
   "outputs": [
    {
     "data": {
      "text/html": [
       "<div>\n",
       "<style scoped>\n",
       "    .dataframe tbody tr th:only-of-type {\n",
       "        vertical-align: middle;\n",
       "    }\n",
       "\n",
       "    .dataframe tbody tr th {\n",
       "        vertical-align: top;\n",
       "    }\n",
       "\n",
       "    .dataframe thead th {\n",
       "        text-align: right;\n",
       "    }\n",
       "</style>\n",
       "<table border=\"1\" class=\"dataframe\">\n",
       "  <thead>\n",
       "    <tr style=\"text-align: right;\">\n",
       "      <th></th>\n",
       "      <th>vm_pu</th>\n",
       "      <th>va_degree</th>\n",
       "      <th>p_mw</th>\n",
       "      <th>q_mvar</th>\n",
       "    </tr>\n",
       "  </thead>\n",
       "  <tbody>\n",
       "    <tr>\n",
       "      <td>0</td>\n",
       "      <td>1.000000</td>\n",
       "      <td>0.000000</td>\n",
       "      <td>-136.806814</td>\n",
       "      <td>-83.441420</td>\n",
       "    </tr>\n",
       "    <tr>\n",
       "      <td>1</td>\n",
       "      <td>0.982421</td>\n",
       "      <td>-0.977077</td>\n",
       "      <td>170.000000</td>\n",
       "      <td>105.350000</td>\n",
       "    </tr>\n",
       "    <tr>\n",
       "      <td>2</td>\n",
       "      <td>0.969031</td>\n",
       "      <td>-1.871668</td>\n",
       "      <td>200.000000</td>\n",
       "      <td>123.940000</td>\n",
       "    </tr>\n",
       "    <tr>\n",
       "      <td>3</td>\n",
       "      <td>1.020000</td>\n",
       "      <td>1.521408</td>\n",
       "      <td>-238.000000</td>\n",
       "      <td>-131.904101</td>\n",
       "    </tr>\n",
       "    <tr>\n",
       "      <td>4</td>\n",
       "      <td>NaN</td>\n",
       "      <td>NaN</td>\n",
       "      <td>0.000000</td>\n",
       "      <td>0.000000</td>\n",
       "    </tr>\n",
       "    <tr>\n",
       "      <td>5</td>\n",
       "      <td>0.995088</td>\n",
       "      <td>-0.143270</td>\n",
       "      <td>0.000000</td>\n",
       "      <td>0.000000</td>\n",
       "    </tr>\n",
       "    <tr>\n",
       "      <td>6</td>\n",
       "      <td>0.995088</td>\n",
       "      <td>-0.143270</td>\n",
       "      <td>0.000000</td>\n",
       "      <td>0.000000</td>\n",
       "    </tr>\n",
       "  </tbody>\n",
       "</table>\n",
       "</div>"
      ],
      "text/plain": [
       "      vm_pu  va_degree        p_mw      q_mvar\n",
       "0  1.000000   0.000000 -136.806814  -83.441420\n",
       "1  0.982421  -0.977077  170.000000  105.350000\n",
       "2  0.969031  -1.871668  200.000000  123.940000\n",
       "3  1.020000   1.521408 -238.000000 -131.904101\n",
       "4       NaN        NaN    0.000000    0.000000\n",
       "5  0.995088  -0.143270    0.000000    0.000000\n",
       "6  0.995088  -0.143270    0.000000    0.000000"
      ]
     },
     "execution_count": 758,
     "metadata": {},
     "output_type": "execute_result"
    }
   ],
   "source": [
    "net.res_bus"
   ]
  },
  {
   "cell_type": "code",
   "execution_count": 759,
   "metadata": {},
   "outputs": [
    {
     "data": {
      "text/plain": [
       "0    20.182829\n",
       "1    47.877698\n",
       "2    61.462187\n",
       "3    49.274683\n",
       "4    48.021956\n",
       "Name: loading_percent, dtype: float64"
      ]
     },
     "execution_count": 759,
     "metadata": {},
     "output_type": "execute_result"
    }
   ],
   "source": [
    "net.res_line.loading_percent"
   ]
  },
  {
   "cell_type": "code",
   "execution_count": 760,
   "metadata": {},
   "outputs": [],
   "source": [
    "# Enabling shunt device, true means enabled\n",
    "net.switch.closed[0] = True\n",
    "net.trafo.tap_pos[0] = 0"
   ]
  },
  {
   "cell_type": "code",
   "execution_count": 761,
   "metadata": {
    "scrolled": true
   },
   "outputs": [],
   "source": [
    "# Enabling the series compensation, False means enabled\n",
    "net.switch.at[1, 'closed'] = True"
   ]
  },
  {
   "cell_type": "code",
   "execution_count": 762,
   "metadata": {},
   "outputs": [
    {
     "data": {
      "text/plain": [
       "0    20.395436\n",
       "1    47.948374\n",
       "2    61.542359\n",
       "3    49.219509\n",
       "4    47.971185\n",
       "Name: loading_percent, dtype: float64"
      ]
     },
     "execution_count": 762,
     "metadata": {},
     "output_type": "execute_result"
    }
   ],
   "source": [
    "pp.runpp(net)\n",
    "net.res_line.loading_percent"
   ]
  },
  {
   "cell_type": "code",
   "execution_count": 763,
   "metadata": {},
   "outputs": [
    {
     "data": {
      "image/png": "[encoded data removed]",
      "text/plain": [
       "<Figure size 432x288 with 1 Axes>"
      ]
     },
     "metadata": {
      "needs_background": "light"
     },
     "output_type": "display_data"
    }
   ],
   "source": [
    "NoseCurve2 = NoseCurve(0.2,4.4,1, net, x_line_pu)"
   ]
  },
  {
   "cell_type": "code",
   "execution_count": 764,
   "metadata": {},
   "outputs": [
    {
     "data": {
      "image/png": "[encoded data removed]",
      "text/plain": [
       "<Figure size 432x288 with 1 Axes>"
      ]
     },
     "metadata": {
      "needs_background": "light"
     },
     "output_type": "display_data"
    }
   ],
   "source": [
    "net.switch.at[1, 'closed'] = False\n",
    "NoseCurve3 = NoseCurve(0.2,4.4,1, net, x_line_pu)"
   ]
  },
  {
   "cell_type": "code",
   "execution_count": 765,
   "metadata": {},
   "outputs": [
    {
     "data": {
      "text/html": [
       "<div>\n",
       "<style scoped>\n",
       "    .dataframe tbody tr th:only-of-type {\n",
       "        vertical-align: middle;\n",
       "    }\n",
       "\n",
       "    .dataframe tbody tr th {\n",
       "        vertical-align: top;\n",
       "    }\n",
       "\n",
       "    .dataframe thead th {\n",
       "        text-align: right;\n",
       "    }\n",
       "</style>\n",
       "<table border=\"1\" class=\"dataframe\">\n",
       "  <thead>\n",
       "    <tr style=\"text-align: right;\">\n",
       "      <th></th>\n",
       "      <th>vm_pu</th>\n",
       "      <th>va_degree</th>\n",
       "      <th>p_mw</th>\n",
       "      <th>q_mvar</th>\n",
       "    </tr>\n",
       "  </thead>\n",
       "  <tbody>\n",
       "    <tr>\n",
       "      <td>0</td>\n",
       "      <td>1.000000</td>\n",
       "      <td>0.000000</td>\n",
       "      <td>-136.842253</td>\n",
       "      <td>-31.577712</td>\n",
       "    </tr>\n",
       "    <tr>\n",
       "      <td>1</td>\n",
       "      <td>0.996663</td>\n",
       "      <td>-1.540621</td>\n",
       "      <td>170.000000</td>\n",
       "      <td>105.350000</td>\n",
       "    </tr>\n",
       "    <tr>\n",
       "      <td>2</td>\n",
       "      <td>0.977857</td>\n",
       "      <td>-1.647186</td>\n",
       "      <td>200.000000</td>\n",
       "      <td>123.940000</td>\n",
       "    </tr>\n",
       "    <tr>\n",
       "      <td>3</td>\n",
       "      <td>1.026426</td>\n",
       "      <td>0.690087</td>\n",
       "      <td>-238.000000</td>\n",
       "      <td>-131.904101</td>\n",
       "    </tr>\n",
       "    <tr>\n",
       "      <td>4</td>\n",
       "      <td>1.047995</td>\n",
       "      <td>-1.606338</td>\n",
       "      <td>0.000000</td>\n",
       "      <td>-49.344853</td>\n",
       "    </tr>\n",
       "    <tr>\n",
       "      <td>5</td>\n",
       "      <td>1.010933</td>\n",
       "      <td>0.214733</td>\n",
       "      <td>0.000000</td>\n",
       "      <td>0.000000</td>\n",
       "    </tr>\n",
       "    <tr>\n",
       "      <td>6</td>\n",
       "      <td>0.995109</td>\n",
       "      <td>-1.149199</td>\n",
       "      <td>0.000000</td>\n",
       "      <td>0.000000</td>\n",
       "    </tr>\n",
       "  </tbody>\n",
       "</table>\n",
       "</div>"
      ],
      "text/plain": [
       "      vm_pu  va_degree        p_mw      q_mvar\n",
       "0  1.000000   0.000000 -136.842253  -31.577712\n",
       "1  0.996663  -1.540621  170.000000  105.350000\n",
       "2  0.977857  -1.647186  200.000000  123.940000\n",
       "3  1.026426   0.690087 -238.000000 -131.904101\n",
       "4  1.047995  -1.606338    0.000000  -49.344853\n",
       "5  1.010933   0.214733    0.000000    0.000000\n",
       "6  0.995109  -1.149199    0.000000    0.000000"
      ]
     },
     "execution_count": 765,
     "metadata": {},
     "output_type": "execute_result"
    }
   ],
   "source": [
    "#Shunt\n",
    "v_ref_pu = 1\n",
    "q_comp = Shunt_q_comp(net, v_ref_pu)\n",
    "net.shunt.q_mvar =  q_comp\n",
    "\n",
    "#Series\n",
    "p_ref_pu = 15.7\n",
    "k_x_comp_pu = K_x_comp_pu(net, x_line_pu, p_ref_pu)\n",
    "net.impedance.loc[0, ['xft_pu','xtf_pu']] = x_line_pu * k_x_comp_pu\n",
    "\n",
    "pp.runpp(net)\n",
    "net.res_bus"
   ]
  },
  {
   "cell_type": "code",
   "execution_count": 766,
   "metadata": {},
   "outputs": [
    {
     "data": {
      "text/plain": [
       "0    21.273368\n",
       "1    38.677087\n",
       "2    52.706513\n",
       "3    57.726131\n",
       "4    56.295284\n",
       "Name: loading_percent, dtype: float64"
      ]
     },
     "execution_count": 766,
     "metadata": {},
     "output_type": "execute_result"
    }
   ],
   "source": [
    "net.res_line.loading_percent"
   ]
  },
  {
   "cell_type": "code",
   "execution_count": 767,
   "metadata": {},
   "outputs": [],
   "source": [
    "## LOAD INCREASE AT BUS 3!\n",
    "# Load scaling\n",
    "l_ind = 3\n",
    "l_p_mw = net.load.p_mw[l_ind]\n",
    "l_q_mvar = net.load.q_mvar[l_ind]\n",
    "l_scaling = 1.2\n",
    "net.load.p_mw[l_ind] = l_p_mw*l_scaling\n",
    "net.load.q_mvar[l_ind] = l_q_mvar*l_scaling"
   ]
  },
  {
   "cell_type": "code",
   "execution_count": 768,
   "metadata": {},
   "outputs": [
    {
     "data": {
      "text/html": [
       "<div>\n",
       "<style scoped>\n",
       "    .dataframe tbody tr th:only-of-type {\n",
       "        vertical-align: middle;\n",
       "    }\n",
       "\n",
       "    .dataframe tbody tr th {\n",
       "        vertical-align: top;\n",
       "    }\n",
       "\n",
       "    .dataframe thead th {\n",
       "        text-align: right;\n",
       "    }\n",
       "</style>\n",
       "<table border=\"1\" class=\"dataframe\">\n",
       "  <thead>\n",
       "    <tr style=\"text-align: right;\">\n",
       "      <th></th>\n",
       "      <th>vm_pu</th>\n",
       "      <th>va_degree</th>\n",
       "      <th>p_mw</th>\n",
       "      <th>q_mvar</th>\n",
       "    </tr>\n",
       "  </thead>\n",
       "  <tbody>\n",
       "    <tr>\n",
       "      <td>0</td>\n",
       "      <td>1.000000</td>\n",
       "      <td>0.000000</td>\n",
       "      <td>-152.606547</td>\n",
       "      <td>-41.317751</td>\n",
       "    </tr>\n",
       "    <tr>\n",
       "      <td>1</td>\n",
       "      <td>0.993542</td>\n",
       "      <td>-1.736100</td>\n",
       "      <td>170.000000</td>\n",
       "      <td>105.350000</td>\n",
       "    </tr>\n",
       "    <tr>\n",
       "      <td>2</td>\n",
       "      <td>0.975518</td>\n",
       "      <td>-1.809831</td>\n",
       "      <td>200.000000</td>\n",
       "      <td>123.940000</td>\n",
       "    </tr>\n",
       "    <tr>\n",
       "      <td>3</td>\n",
       "      <td>1.021216</td>\n",
       "      <td>0.373733</td>\n",
       "      <td>-222.000000</td>\n",
       "      <td>-121.988101</td>\n",
       "    </tr>\n",
       "    <tr>\n",
       "      <td>4</td>\n",
       "      <td>1.044713</td>\n",
       "      <td>-1.801817</td>\n",
       "      <td>0.000000</td>\n",
       "      <td>-49.036240</td>\n",
       "    </tr>\n",
       "    <tr>\n",
       "      <td>5</td>\n",
       "      <td>1.006731</td>\n",
       "      <td>-0.070530</td>\n",
       "      <td>0.000000</td>\n",
       "      <td>0.000000</td>\n",
       "    </tr>\n",
       "    <tr>\n",
       "      <td>6</td>\n",
       "      <td>0.991791</td>\n",
       "      <td>-1.348395</td>\n",
       "      <td>0.000000</td>\n",
       "      <td>0.000000</td>\n",
       "    </tr>\n",
       "  </tbody>\n",
       "</table>\n",
       "</div>"
      ],
      "text/plain": [
       "      vm_pu  va_degree        p_mw      q_mvar\n",
       "0  1.000000   0.000000 -152.606547  -41.317751\n",
       "1  0.993542  -1.736100  170.000000  105.350000\n",
       "2  0.975518  -1.809831  200.000000  123.940000\n",
       "3  1.021216   0.373733 -222.000000 -121.988101\n",
       "4  1.044713  -1.801817    0.000000  -49.036240\n",
       "5  1.006731  -0.070530    0.000000    0.000000\n",
       "6  0.991791  -1.348395    0.000000    0.000000"
      ]
     },
     "execution_count": 768,
     "metadata": {},
     "output_type": "execute_result"
    }
   ],
   "source": [
    "#Series\n",
    "p_ref_pu = 15.7\n",
    "k_x_comp_pu = K_x_comp_pu(net, x_line_pu, p_ref_pu)\n",
    "net.impedance.loc[0, ['xft_pu','xtf_pu']] = x_line_pu * k_x_comp_pu\n",
    "\n",
    "pp.runpp(net)\n",
    "net.res_bus"
   ]
  },
  {
   "cell_type": "code",
   "execution_count": 769,
   "metadata": {},
   "outputs": [
    {
     "data": {
      "text/plain": [
       "0    24.117669\n",
       "1    42.495494\n",
       "2    49.448264\n",
       "3    54.171552\n",
       "4    52.731487\n",
       "Name: loading_percent, dtype: float64"
      ]
     },
     "execution_count": 769,
     "metadata": {},
     "output_type": "execute_result"
    }
   ],
   "source": [
    "net.res_line.loading_percent"
   ]
  },
  {
   "cell_type": "code",
   "execution_count": 770,
   "metadata": {},
   "outputs": [
    {
     "data": {
      "image/png": "[encoded data removed]",
      "text/plain": [
       "<Figure size 432x288 with 1 Axes>"
      ]
     },
     "metadata": {
      "needs_background": "light"
     },
     "output_type": "display_data"
    }
   ],
   "source": [
    "figMerge1 = MergeFig(NoseCurve1[1], NoseCurve1[2], 'No FACTS', \n",
    "                     NoseCurve2[1], NoseCurve2[2], 'Shunt',\n",
    "                     NoseCurve3[1], NoseCurve3[2], 'Shunt+SC')"
   ]
  }
 ],
 "metadata": {
  "kernelspec": {
   "display_name": "Python 3",
   "language": "python",
   "name": "python3"
  },
  "language_info": {
   "codemirror_mode": {
    "name": "ipython",
    "version": 3
   },
   "file_extension": ".py",
   "mimetype": "text/x-python",
   "name": "python",
   "nbconvert_exporter": "python",
   "pygments_lexer": "ipython3",
   "version": "3.7.4"
  }
 },
 "nbformat": 4,
 "nbformat_minor": 2
}
