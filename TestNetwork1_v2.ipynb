{
 "cells": [
  {
   "cell_type": "code",
   "execution_count": 63,
   "metadata": {
    "scrolled": true
   },
   "outputs": [],
   "source": [
    "import pandapower as pp\n",
    "import pandapower.networks as nw\n",
    "import pandapower.plotting as plot\n",
    "import matplotlib.pyplot as plt\n",
    "import math\n",
    "import numpy as np\n",
    "import copy\n",
    "#from pandapower.plotting import simple_plot, simple_plotly, pf_res_plotly\n",
    "\n",
    "# Predefined network of IEEE 4gs bus system \n",
    "net = pp.networks.case4gs()\n",
    "#plot.simple_plot(net)"
   ]
  },
  {
   "cell_type": "code",
   "execution_count": 64,
   "metadata": {},
   "outputs": [],
   "source": [
    "####Shunt FACTS device (bus 1)\n",
    "#MV bus\n",
    "bus_SVC = pp.create_bus(net, name='MV SVCtrafo bus', vn_kv=69, type='n', geodata=(-2,2.5), zone=2, max_vm_pu=1.1,\n",
    "                        min_vm_pu=0.9)\n",
    "#Trafo\n",
    "trafoSVC = pp.create_transformer_from_parameters(net, hv_bus=1, lv_bus=4, in_service=True, \n",
    "                                                name='trafoSVC', sn_mva=110, vn_hv_kv=230 , vn_lv_kv=69, \n",
    "                                                vk_percent=12, vkr_percent=0.26, pfe_kw=55, i0_percent=0.06,\n",
    "                                                shift_degree=0, tap_side='hv', tap_neutral=0, tap_min=-9, tap_max=9,\n",
    "                                                tap_step_percent=1.5, tap_step_degree=0, tap_phase_shifter=False) \n",
    "#Breaker between grid HV bus and trafo HV bus to connect buses\n",
    "sw_SVC = pp.create_switch(net, bus=1, element=0, et='t', type='CB', closed=False)\n",
    "#Shunt devices connected with MV bus\n",
    "shuntDev = pp.create_shunt(net, bus_SVC, 0, in_service=True, name='Shunt Device', step = 1)"
   ]
  },
  {
   "cell_type": "code",
   "execution_count": 65,
   "metadata": {
    "scrolled": true
   },
   "outputs": [],
   "source": [
    "####Series device (at line 3, in middle between bus 2 and 3)\n",
    "#Add intermediate buses for bypass and series compensation impedance\n",
    "bus_SC1 = pp.create_bus(net, name='SC bus 1', vn_kv=230, type='n', geodata=(-1,3.1), zone=2, max_vm_pu=1.1, min_vm_pu=0.9)\n",
    "bus_SC2 = pp.create_bus(net, name='SC bus 2', vn_kv=230, type='n', geodata=(-1,3.0), zone=2, max_vm_pu=1.1, min_vm_pu=0.9)\n",
    "sw_SC_bypass = pp.create_switch(net, bus=5, element=6, et='b', type='CB', closed=True)\n",
    "imp_SC = pp.create_impedance(net, from_bus=5, to_bus=6, rft_pu=0.000001272, xft_pu=-0.0636,\n",
    "                             rtf_pu=0.000001272, xtf_pu=-0.0636, sn_mva=250, in_service=True) #Just some default values\n",
    "#Adjust orginal Line 3 to connect to new buses instead.\n",
    "net.line.at[3, ['length_km', 'to_bus', 'name']] = [0.5, 5, 'line1_SC']                        \n",
    "lineSC2 = pp.create_line_from_parameters(net, name='line2_SC', c_nf_per_km=net.line.at[3,'c_nf_per_km'],\n",
    "                       df=net.line.at[3, 'df'], from_bus=6, g_us_per_km=net.line.at[3, 'g_us_per_km'],\n",
    "                       in_service=net.line.at[3, 'in_service'], length_km=0.5, max_i_ka=net.line.at[3, 'max_i_ka'],\n",
    "                       max_loading_percent=net.line.at[3, 'max_loading_percent'], parallel=net.line.at[3, 'parallel'],\n",
    "                       r_ohm_per_km=net.line.at[3, 'r_ohm_per_km'], std_type=net.line.at[3, 'std_type'], to_bus=3, \n",
    "                       type=net.line.at[3, 'type'], x_ohm_per_km=net.line.at[3, 'x_ohm_per_km'])"
   ]
  },
  {
   "cell_type": "code",
   "execution_count": 66,
   "metadata": {},
   "outputs": [],
   "source": [
    "###EXCHANGE PV GEN INTO SGEN\n",
    "pp.runpp(net)\n",
    "net.gen.drop(index=[0], inplace= True) #Drop PV generator\n",
    "sgen_nom_p_mw = net.res_gen.p_mw # Set generator nominal output as output of generator during IEEE nominal setup\n",
    "sgen_nom_q_mvar = net.res_gen.q_mvar\n",
    "sgen = pp.create_sgen(net, 3, p_mw=sgen_nom_p_mw, q_mvar=sgen_nom_q_mvar, name='static generator', scaling=1)"
   ]
  },
  {
   "cell_type": "code",
   "execution_count": 67,
   "metadata": {},
   "outputs": [],
   "source": [
    "##Function for nose curve\n",
    "def NoseCurve(p_low_pu, p_high_pu, bus_index, net):\n",
    "    \n",
    "    network = copy.deepcopy(net) #So not changing anything in actual network\n",
    "    fig = plt.figure()\n",
    "    \n",
    "    l_arr = np.linspace(p_low_pu, p_high_pu, 50)\n",
    "    l_len = len(l_arr)\n",
    "    v_res = np.zeros(l_len)\n",
    "    l_ind = bus_index\n",
    "    \n",
    "    for ind in range(l_len):\n",
    "        # Load scaling\n",
    "        l_scaling = l_arr[ind]\n",
    "        l_p_mw = network.load.p_mw[l_ind]\n",
    "        l_q_mvar = network.load.q_mvar[l_ind]\n",
    "        network.load.p_mw[l_ind] = l_p_mw*l_scaling\n",
    "        network.load.q_mvar[l_ind] = l_q_mvar*l_scaling\n",
    "        pp.runpp(network)\n",
    "        v_res[ind] = network.res_bus.vm_pu[l_ind]\n",
    "\n",
    "    plt.plot(l_arr, v_res, figure=fig)\n",
    "    plt.ylabel('Bus Voltage [pu]')\n",
    "    plt.xlabel('Active power [pu]')\n",
    "    \n",
    "    return fig"
   ]
  },
  {
   "cell_type": "code",
   "execution_count": 68,
   "metadata": {},
   "outputs": [
    {
     "name": "stdout",
     "output_type": "stream",
     "text": [
      "[1.0199999999999998, 0.9690305913652232, 33.6444, 3.3930762132651475, 1]\n",
      "-0.998261230652856\n"
     ]
    }
   ],
   "source": [
    "##Function for transition from reference power to reactance of \"TCSC\"\n",
    "def K_x_comp_pu(net, x_line_pu, p_ref_pu):\n",
    "    v_s_pu = net.res_bus.vm_pu[3]\n",
    "    v_r_pu = net.res_bus.vm_pu[2]\n",
    "    delta_deg = net.res_bus.va_degree[3] - net.res_bus.va_degree[2]\n",
    "    k_x_comp = ((v_s_pu * v_r_pu * math.sin(math.radians(delta_deg))) / (p_ref_pu* x_line_ohm)) - 1  \n",
    "    return k_x_comp\n",
    "\n",
    "p_ref_pu = 1\n",
    "S_base = 100e6\n",
    "V_base = 230e3\n",
    "x_base = pow(V_base,2) / S_base\n",
    "x_line_ohm = net.line.x_ohm_per_km[3]\n",
    "x_line_pu = x_line_ohm / x_base # Can take one since this line is divivded into \n",
    "                                              # 2 identical lines with length 0.5 km  \n",
    "k_x_comp_pu = K_x_comp_pu(net, x_line_pu, p_ref_pu)\n",
    "print([v_s_pu, v_r_pu, x_line_ohm, delta_deg, p_ref_pu])\n",
    "print(k_x_comp_pu)"
   ]
  },
  {
   "cell_type": "code",
   "execution_count": 69,
   "metadata": {},
   "outputs": [],
   "source": [
    "## Function for transition from reference parameter to reactive power output of shunt device"
   ]
  },
  {
   "cell_type": "code",
   "execution_count": 70,
   "metadata": {},
   "outputs": [
    {
     "data": {
      "image/png": "[encoded data removed]",
      "text/plain": [
       "<Figure size 432x288 with 1 Axes>"
      ]
     },
     "metadata": {
      "needs_background": "light"
     },
     "output_type": "display_data"
    }
   ],
   "source": [
    "NoseCurve1 = NoseCurve(0.8,1.25,1, net)"
   ]
  },
  {
   "cell_type": "code",
   "execution_count": 71,
   "metadata": {},
   "outputs": [
    {
     "data": {
      "text/html": [
       "<div>\n",
       "<style scoped>\n",
       "    .dataframe tbody tr th:only-of-type {\n",
       "        vertical-align: middle;\n",
       "    }\n",
       "\n",
       "    .dataframe tbody tr th {\n",
       "        vertical-align: top;\n",
       "    }\n",
       "\n",
       "    .dataframe thead th {\n",
       "        text-align: right;\n",
       "    }\n",
       "</style>\n",
       "<table border=\"1\" class=\"dataframe\">\n",
       "  <thead>\n",
       "    <tr style=\"text-align: right;\">\n",
       "      <th></th>\n",
       "      <th>vm_pu</th>\n",
       "      <th>va_degree</th>\n",
       "      <th>p_mw</th>\n",
       "      <th>q_mvar</th>\n",
       "    </tr>\n",
       "  </thead>\n",
       "  <tbody>\n",
       "    <tr>\n",
       "      <td>0</td>\n",
       "      <td>1.000000</td>\n",
       "      <td>0.000000</td>\n",
       "      <td>-136.806814</td>\n",
       "      <td>-83.441420</td>\n",
       "    </tr>\n",
       "    <tr>\n",
       "      <td>1</td>\n",
       "      <td>0.982421</td>\n",
       "      <td>-0.977077</td>\n",
       "      <td>170.000000</td>\n",
       "      <td>105.350000</td>\n",
       "    </tr>\n",
       "    <tr>\n",
       "      <td>2</td>\n",
       "      <td>0.969031</td>\n",
       "      <td>-1.871668</td>\n",
       "      <td>200.000000</td>\n",
       "      <td>123.940000</td>\n",
       "    </tr>\n",
       "    <tr>\n",
       "      <td>3</td>\n",
       "      <td>1.020000</td>\n",
       "      <td>1.521408</td>\n",
       "      <td>-238.000000</td>\n",
       "      <td>-131.904101</td>\n",
       "    </tr>\n",
       "    <tr>\n",
       "      <td>4</td>\n",
       "      <td>NaN</td>\n",
       "      <td>NaN</td>\n",
       "      <td>0.000000</td>\n",
       "      <td>0.000000</td>\n",
       "    </tr>\n",
       "    <tr>\n",
       "      <td>5</td>\n",
       "      <td>0.995088</td>\n",
       "      <td>-0.143270</td>\n",
       "      <td>0.000000</td>\n",
       "      <td>0.000000</td>\n",
       "    </tr>\n",
       "    <tr>\n",
       "      <td>6</td>\n",
       "      <td>0.995088</td>\n",
       "      <td>-0.143270</td>\n",
       "      <td>0.000000</td>\n",
       "      <td>0.000000</td>\n",
       "    </tr>\n",
       "  </tbody>\n",
       "</table>\n",
       "</div>"
      ],
      "text/plain": [
       "      vm_pu  va_degree        p_mw      q_mvar\n",
       "0  1.000000   0.000000 -136.806814  -83.441420\n",
       "1  0.982421  -0.977077  170.000000  105.350000\n",
       "2  0.969031  -1.871668  200.000000  123.940000\n",
       "3  1.020000   1.521408 -238.000000 -131.904101\n",
       "4       NaN        NaN    0.000000    0.000000\n",
       "5  0.995088  -0.143270    0.000000    0.000000\n",
       "6  0.995088  -0.143270    0.000000    0.000000"
      ]
     },
     "execution_count": 71,
     "metadata": {},
     "output_type": "execute_result"
    }
   ],
   "source": [
    "net.res_bus"
   ]
  },
  {
   "cell_type": "code",
   "execution_count": 72,
   "metadata": {},
   "outputs": [
    {
     "data": {
      "text/html": [
       "<div>\n",
       "<style scoped>\n",
       "    .dataframe tbody tr th:only-of-type {\n",
       "        vertical-align: middle;\n",
       "    }\n",
       "\n",
       "    .dataframe tbody tr th {\n",
       "        vertical-align: top;\n",
       "    }\n",
       "\n",
       "    .dataframe thead th {\n",
       "        text-align: right;\n",
       "    }\n",
       "</style>\n",
       "<table border=\"1\" class=\"dataframe\">\n",
       "  <thead>\n",
       "    <tr style=\"text-align: right;\">\n",
       "      <th></th>\n",
       "      <th>p_from_mw</th>\n",
       "      <th>q_from_mvar</th>\n",
       "      <th>p_to_mw</th>\n",
       "      <th>q_to_mvar</th>\n",
       "      <th>pl_mw</th>\n",
       "      <th>ql_mvar</th>\n",
       "      <th>i_from_ka</th>\n",
       "      <th>i_to_ka</th>\n",
       "      <th>i_ka</th>\n",
       "      <th>vm_from_pu</th>\n",
       "      <th>va_from_degree</th>\n",
       "      <th>vm_to_pu</th>\n",
       "      <th>va_to_degree</th>\n",
       "      <th>loading_percent</th>\n",
       "    </tr>\n",
       "  </thead>\n",
       "  <tbody>\n",
       "    <tr>\n",
       "      <td>0</td>\n",
       "      <td>38.722798</td>\n",
       "      <td>22.292370</td>\n",
       "      <td>-38.495881</td>\n",
       "      <td>-31.229183</td>\n",
       "      <td>0.226918</td>\n",
       "      <td>-8.936813</td>\n",
       "      <td>0.112159</td>\n",
       "      <td>0.126658</td>\n",
       "      <td>0.126658</td>\n",
       "      <td>1.000000</td>\n",
       "      <td>0.000000</td>\n",
       "      <td>0.982421</td>\n",
       "      <td>-0.977077</td>\n",
       "      <td>20.182829</td>\n",
       "    </tr>\n",
       "    <tr>\n",
       "      <td>1</td>\n",
       "      <td>98.084015</td>\n",
       "      <td>61.149050</td>\n",
       "      <td>-97.053680</td>\n",
       "      <td>-63.511074</td>\n",
       "      <td>1.030336</td>\n",
       "      <td>-2.362024</td>\n",
       "      <td>0.290141</td>\n",
       "      <td>0.300459</td>\n",
       "      <td>0.300459</td>\n",
       "      <td>1.000000</td>\n",
       "      <td>0.000000</td>\n",
       "      <td>0.969031</td>\n",
       "      <td>-1.871668</td>\n",
       "      <td>47.877698</td>\n",
       "    </tr>\n",
       "    <tr>\n",
       "      <td>2</td>\n",
       "      <td>-131.504119</td>\n",
       "      <td>-74.120817</td>\n",
       "      <td>133.219044</td>\n",
       "      <td>74.923927</td>\n",
       "      <td>1.714924</td>\n",
       "      <td>0.803110</td>\n",
       "      <td>0.385709</td>\n",
       "      <td>0.376146</td>\n",
       "      <td>0.385709</td>\n",
       "      <td>0.982421</td>\n",
       "      <td>-0.977077</td>\n",
       "      <td>1.020000</td>\n",
       "      <td>1.521408</td>\n",
       "      <td>61.462187</td>\n",
       "    </tr>\n",
       "    <tr>\n",
       "      <td>3</td>\n",
       "      <td>-102.946320</td>\n",
       "      <td>-60.428926</td>\n",
       "      <td>103.887554</td>\n",
       "      <td>58.985702</td>\n",
       "      <td>0.941234</td>\n",
       "      <td>-1.443224</td>\n",
       "      <td>0.309226</td>\n",
       "      <td>0.301364</td>\n",
       "      <td>0.309226</td>\n",
       "      <td>0.969031</td>\n",
       "      <td>-1.871668</td>\n",
       "      <td>0.995088</td>\n",
       "      <td>-0.143270</td>\n",
       "      <td>49.274683</td>\n",
       "    </tr>\n",
       "    <tr>\n",
       "      <td>4</td>\n",
       "      <td>-103.887554</td>\n",
       "      <td>-58.985702</td>\n",
       "      <td>104.780956</td>\n",
       "      <td>56.980174</td>\n",
       "      <td>0.893402</td>\n",
       "      <td>-2.005529</td>\n",
       "      <td>0.301364</td>\n",
       "      <td>0.293528</td>\n",
       "      <td>0.301364</td>\n",
       "      <td>0.995088</td>\n",
       "      <td>-0.143270</td>\n",
       "      <td>1.020000</td>\n",
       "      <td>1.521408</td>\n",
       "      <td>48.021956</td>\n",
       "    </tr>\n",
       "  </tbody>\n",
       "</table>\n",
       "</div>"
      ],
      "text/plain": [
       "    p_from_mw  q_from_mvar     p_to_mw  q_to_mvar     pl_mw   ql_mvar  \\\n",
       "0   38.722798    22.292370  -38.495881 -31.229183  0.226918 -8.936813   \n",
       "1   98.084015    61.149050  -97.053680 -63.511074  1.030336 -2.362024   \n",
       "2 -131.504119   -74.120817  133.219044  74.923927  1.714924  0.803110   \n",
       "3 -102.946320   -60.428926  103.887554  58.985702  0.941234 -1.443224   \n",
       "4 -103.887554   -58.985702  104.780956  56.980174  0.893402 -2.005529   \n",
       "\n",
       "   i_from_ka   i_to_ka      i_ka  vm_from_pu  va_from_degree  vm_to_pu  \\\n",
       "0   0.112159  0.126658  0.126658    1.000000        0.000000  0.982421   \n",
       "1   0.290141  0.300459  0.300459    1.000000        0.000000  0.969031   \n",
       "2   0.385709  0.376146  0.385709    0.982421       -0.977077  1.020000   \n",
       "3   0.309226  0.301364  0.309226    0.969031       -1.871668  0.995088   \n",
       "4   0.301364  0.293528  0.301364    0.995088       -0.143270  1.020000   \n",
       "\n",
       "   va_to_degree  loading_percent  \n",
       "0     -0.977077        20.182829  \n",
       "1     -1.871668        47.877698  \n",
       "2      1.521408        61.462187  \n",
       "3     -0.143270        49.274683  \n",
       "4      1.521408        48.021956  "
      ]
     },
     "execution_count": 72,
     "metadata": {},
     "output_type": "execute_result"
    }
   ],
   "source": [
    "net.res_line"
   ]
  },
  {
   "cell_type": "code",
   "execution_count": 73,
   "metadata": {},
   "outputs": [],
   "source": [
    "# Enabling shunt device, true means enabled\n",
    "net.switch.closed[0] = False\n",
    "net.trafo.tap_pos[0] = 0"
   ]
  },
  {
   "cell_type": "code",
   "execution_count": 74,
   "metadata": {
    "scrolled": true
   },
   "outputs": [
    {
     "data": {
      "text/html": [
       "<div>\n",
       "<style scoped>\n",
       "    .dataframe tbody tr th:only-of-type {\n",
       "        vertical-align: middle;\n",
       "    }\n",
       "\n",
       "    .dataframe tbody tr th {\n",
       "        vertical-align: top;\n",
       "    }\n",
       "\n",
       "    .dataframe thead th {\n",
       "        text-align: right;\n",
       "    }\n",
       "</style>\n",
       "<table border=\"1\" class=\"dataframe\">\n",
       "  <thead>\n",
       "    <tr style=\"text-align: right;\">\n",
       "      <th></th>\n",
       "      <th>bus</th>\n",
       "      <th>const_i_percent</th>\n",
       "      <th>const_z_percent</th>\n",
       "      <th>controllable</th>\n",
       "      <th>in_service</th>\n",
       "      <th>name</th>\n",
       "      <th>p_mw</th>\n",
       "      <th>q_mvar</th>\n",
       "      <th>scaling</th>\n",
       "      <th>sn_mva</th>\n",
       "      <th>type</th>\n",
       "    </tr>\n",
       "  </thead>\n",
       "  <tbody>\n",
       "    <tr>\n",
       "      <td>0</td>\n",
       "      <td>0</td>\n",
       "      <td>0.0</td>\n",
       "      <td>0.0</td>\n",
       "      <td>False</td>\n",
       "      <td>True</td>\n",
       "      <td>None</td>\n",
       "      <td>50.0</td>\n",
       "      <td>30.99</td>\n",
       "      <td>1.0</td>\n",
       "      <td>NaN</td>\n",
       "      <td>None</td>\n",
       "    </tr>\n",
       "    <tr>\n",
       "      <td>1</td>\n",
       "      <td>1</td>\n",
       "      <td>0.0</td>\n",
       "      <td>0.0</td>\n",
       "      <td>False</td>\n",
       "      <td>True</td>\n",
       "      <td>None</td>\n",
       "      <td>170.0</td>\n",
       "      <td>105.35</td>\n",
       "      <td>1.0</td>\n",
       "      <td>NaN</td>\n",
       "      <td>None</td>\n",
       "    </tr>\n",
       "    <tr>\n",
       "      <td>2</td>\n",
       "      <td>2</td>\n",
       "      <td>0.0</td>\n",
       "      <td>0.0</td>\n",
       "      <td>False</td>\n",
       "      <td>True</td>\n",
       "      <td>None</td>\n",
       "      <td>200.0</td>\n",
       "      <td>123.94</td>\n",
       "      <td>1.0</td>\n",
       "      <td>NaN</td>\n",
       "      <td>None</td>\n",
       "    </tr>\n",
       "    <tr>\n",
       "      <td>3</td>\n",
       "      <td>3</td>\n",
       "      <td>0.0</td>\n",
       "      <td>0.0</td>\n",
       "      <td>False</td>\n",
       "      <td>True</td>\n",
       "      <td>None</td>\n",
       "      <td>80.0</td>\n",
       "      <td>49.58</td>\n",
       "      <td>1.0</td>\n",
       "      <td>NaN</td>\n",
       "      <td>None</td>\n",
       "    </tr>\n",
       "  </tbody>\n",
       "</table>\n",
       "</div>"
      ],
      "text/plain": [
       "   bus  const_i_percent  const_z_percent  controllable  in_service  name  \\\n",
       "0    0              0.0              0.0         False        True  None   \n",
       "1    1              0.0              0.0         False        True  None   \n",
       "2    2              0.0              0.0         False        True  None   \n",
       "3    3              0.0              0.0         False        True  None   \n",
       "\n",
       "    p_mw  q_mvar  scaling  sn_mva  type  \n",
       "0   50.0   30.99      1.0     NaN  None  \n",
       "1  170.0  105.35      1.0     NaN  None  \n",
       "2  200.0  123.94      1.0     NaN  None  \n",
       "3   80.0   49.58      1.0     NaN  None  "
      ]
     },
     "execution_count": 74,
     "metadata": {},
     "output_type": "execute_result"
    }
   ],
   "source": [
    "# Enabling the series compensation, False means enabled\n",
    "net.switch.at[1, 'closed'] = False\n",
    "net.impedance.loc[0, ['xft_pu','xtf_pu']] = x_line_pu * k_x_comp_pu\n",
    "pp.runpp(net)\n",
    "net.res_load\n",
    "net.load"
   ]
  },
  {
   "cell_type": "code",
   "execution_count": 75,
   "metadata": {},
   "outputs": [
    {
     "data": {
      "image/png": "[encoded data removed]",
      "text/plain": [
       "<Figure size 432x288 with 1 Axes>"
      ]
     },
     "metadata": {
      "needs_background": "light"
     },
     "output_type": "display_data"
    }
   ],
   "source": [
    "NoseCurve2 = NoseCurve(0.8,1.25,1, net)"
   ]
  },
  {
   "cell_type": "code",
   "execution_count": 76,
   "metadata": {},
   "outputs": [
    {
     "data": {
      "image/png": "[encoded data removed]",
      "text/plain": [
       "<Figure size 432x288 with 1 Axes>"
      ]
     },
     "execution_count": 76,
     "metadata": {},
     "output_type": "execute_result"
    }
   ],
   "source": [
    "NoseCurve1"
   ]
  },
  {
   "cell_type": "code",
   "execution_count": 77,
   "metadata": {},
   "outputs": [],
   "source": [
    "########Some Settings"
   ]
  },
  {
   "cell_type": "code",
   "execution_count": 78,
   "metadata": {},
   "outputs": [],
   "source": [
    "# Generation scaling\n",
    "g_scaling = 1\n",
    "g_ind = 0\n",
    "g_p_mw = net.sgen.p_mw[g_ind]\n",
    "g_q_mvar = net.sgen.q_mvar[g_ind]\n",
    "net.sgen.p_mw[g_ind] = g_p_mw*g_scaling\n",
    "net.sgen.q_mvar[g_ind] = g_q_mvar*g_scaling"
   ]
  }
 ],
 "metadata": {
  "kernelspec": {
   "display_name": "Python 3",
   "language": "python",
   "name": "python3"
  },
  "language_info": {
   "codemirror_mode": {
    "name": "ipython",
    "version": 3
   },
   "file_extension": ".py",
   "mimetype": "text/x-python",
   "name": "python",
   "nbconvert_exporter": "python",
   "pygments_lexer": "ipython3",
   "version": "3.7.4"
  }
 },
 "nbformat": 4,
 "nbformat_minor": 2
}
